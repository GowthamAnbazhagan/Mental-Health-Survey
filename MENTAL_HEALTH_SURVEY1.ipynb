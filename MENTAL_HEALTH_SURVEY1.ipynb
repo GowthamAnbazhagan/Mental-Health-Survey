{
  "cells": [
    {
      "cell_type": "markdown",
      "metadata": {
        "id": "2ORaLkcefrNL"
      },
      "source": [
        "# PREDICTING DEPRESSION FROM MENTAL HEALTH SURVEY DATA USING DEEP LEARNING"
      ]
    },
    {
      "cell_type": "markdown",
      "metadata": {
        "id": "qg3ktGB4g1W1"
      },
      "source": [
        "## 1) DATA PREPROCESSING"
      ]
    },
    {
      "cell_type": "markdown",
      "metadata": {
        "id": "faQP_Db9g5Cj"
      },
      "source": [
        "### INSTALL AND IMPORT REQUIRED PACKAGES"
      ]
    },
    {
      "cell_type": "code",
      "execution_count": 2,
      "metadata": {
        "colab": {
          "base_uri": "https://localhost:8080/"
        },
        "id": "zp3C2pSQe3dK",
        "outputId": "27cd08f2-53b8-445a-a227-dc4510bc5be5"
      },
      "outputs": [
        {
          "name": "stdout",
          "output_type": "stream",
          "text": [
            "Requirement already satisfied: pandas in c:\\users\\gowth\\anaconda3\\lib\\site-packages (2.2.2)\n",
            "Requirement already satisfied: numpy in c:\\users\\gowth\\anaconda3\\lib\\site-packages (1.26.4)\n",
            "Requirement already satisfied: scikit-learn in c:\\users\\gowth\\anaconda3\\lib\\site-packages (1.6.1)\n",
            "Requirement already satisfied: torch in c:\\users\\gowth\\anaconda3\\lib\\site-packages (2.6.0+cu118)\n",
            "Requirement already satisfied: torchvision in c:\\users\\gowth\\anaconda3\\lib\\site-packages (0.21.0+cu118)\n",
            "Requirement already satisfied: python-dateutil>=2.8.2 in c:\\users\\gowth\\appdata\\roaming\\python\\python312\\site-packages (from pandas) (2.9.0.post0)\n",
            "Requirement already satisfied: pytz>=2020.1 in c:\\users\\gowth\\anaconda3\\lib\\site-packages (from pandas) (2024.1)\n",
            "Requirement already satisfied: tzdata>=2022.7 in c:\\users\\gowth\\anaconda3\\lib\\site-packages (from pandas) (2023.3)\n",
            "Requirement already satisfied: scipy>=1.6.0 in c:\\users\\gowth\\anaconda3\\lib\\site-packages (from scikit-learn) (1.13.1)\n",
            "Requirement already satisfied: joblib>=1.2.0 in c:\\users\\gowth\\anaconda3\\lib\\site-packages (from scikit-learn) (1.4.2)\n",
            "Requirement already satisfied: threadpoolctl>=3.1.0 in c:\\users\\gowth\\anaconda3\\lib\\site-packages (from scikit-learn) (3.5.0)\n",
            "Requirement already satisfied: filelock in c:\\users\\gowth\\anaconda3\\lib\\site-packages (from torch) (3.13.1)\n",
            "Requirement already satisfied: typing-extensions>=4.10.0 in c:\\users\\gowth\\anaconda3\\lib\\site-packages (from torch) (4.12.2)\n",
            "Requirement already satisfied: networkx in c:\\users\\gowth\\anaconda3\\lib\\site-packages (from torch) (3.2.1)\n",
            "Requirement already satisfied: jinja2 in c:\\users\\gowth\\anaconda3\\lib\\site-packages (from torch) (3.1.4)\n",
            "Requirement already satisfied: fsspec in c:\\users\\gowth\\anaconda3\\lib\\site-packages (from torch) (2024.3.1)\n",
            "Requirement already satisfied: setuptools in c:\\users\\gowth\\anaconda3\\lib\\site-packages (from torch) (69.5.1)\n",
            "Requirement already satisfied: sympy==1.13.1 in c:\\users\\gowth\\anaconda3\\lib\\site-packages (from torch) (1.13.1)\n",
            "Requirement already satisfied: mpmath<1.4,>=1.1.0 in c:\\users\\gowth\\anaconda3\\lib\\site-packages (from sympy==1.13.1->torch) (1.3.0)\n",
            "Requirement already satisfied: pillow!=8.3.*,>=5.3.0 in c:\\users\\gowth\\anaconda3\\lib\\site-packages (from torchvision) (10.3.0)\n",
            "Requirement already satisfied: six>=1.5 in c:\\users\\gowth\\appdata\\roaming\\python\\python312\\site-packages (from python-dateutil>=2.8.2->pandas) (1.17.0)\n",
            "Requirement already satisfied: MarkupSafe>=2.0 in c:\\users\\gowth\\anaconda3\\lib\\site-packages (from jinja2->torch) (2.1.3)\n"
          ]
        }
      ],
      "source": [
        "!pip install pandas numpy scikit-learn torch torchvision"
      ]
    },
    {
      "cell_type": "code",
      "execution_count": 3,
      "metadata": {
        "id": "uLcTxAjjhAFG"
      },
      "outputs": [],
      "source": [
        "import numpy as np\n",
        "import pandas as pd\n",
        "import warnings\n",
        "warnings.filterwarnings('ignore')\n",
        "\n",
        "import torch\n",
        "import torch.nn as nn\n",
        "import torch.optim as optim\n",
        "import torch.utils.data as data\n",
        "import matplotlib.pyplot as plt\n",
        "import seaborn as sns\n",
        "\n",
        "from sklearn.model_selection import train_test_split\n",
        "from sklearn.preprocessing import MinMaxScaler, StandardScaler, LabelEncoder, OneHotEncoder, OrdinalEncoder\n",
        "from sklearn.impute import SimpleImputer\n",
        "from torch.utils.data import DataLoader, TensorDataset, random_split\n",
        "from imblearn.over_sampling import SMOTE\n",
        "from sklearn.metrics import classification_report, confusion_matrix, roc_curve, auc"
      ]
    },
    {
      "cell_type": "markdown",
      "metadata": {
        "id": "Y2-ZQkFGhZSs"
      },
      "source": [
        "### 1.1) LOAD THE DATASETS"
      ]
    },
    {
      "cell_type": "code",
      "execution_count": 20,
      "metadata": {
        "id": "HE-Au_J8hTnQ"
      },
      "outputs": [],
      "source": [
        "train_df = pd.read_csv(r\"C:\\Users\\gowth\\Desktop\\B27_DS\\Project Mental Health\\train.csv\")"
      ]
    },
    {
      "cell_type": "code",
      "execution_count": 21,
      "metadata": {
        "colab": {
          "base_uri": "https://localhost:8080/",
          "height": 382
        },
        "id": "yPEbb5HnhpGa",
        "outputId": "81ad865b-816f-431f-c2e5-0af7541822dc"
      },
      "outputs": [
        {
          "data": {
            "text/html": [
              "<div>\n",
              "<style scoped>\n",
              "    .dataframe tbody tr th:only-of-type {\n",
              "        vertical-align: middle;\n",
              "    }\n",
              "\n",
              "    .dataframe tbody tr th {\n",
              "        vertical-align: top;\n",
              "    }\n",
              "\n",
              "    .dataframe thead th {\n",
              "        text-align: right;\n",
              "    }\n",
              "</style>\n",
              "<table border=\"1\" class=\"dataframe\">\n",
              "  <thead>\n",
              "    <tr style=\"text-align: right;\">\n",
              "      <th></th>\n",
              "      <th>id</th>\n",
              "      <th>Name</th>\n",
              "      <th>Gender</th>\n",
              "      <th>Age</th>\n",
              "      <th>City</th>\n",
              "      <th>Working Professional or Student</th>\n",
              "      <th>Profession</th>\n",
              "      <th>Academic Pressure</th>\n",
              "      <th>Work Pressure</th>\n",
              "      <th>CGPA</th>\n",
              "      <th>Study Satisfaction</th>\n",
              "      <th>Job Satisfaction</th>\n",
              "      <th>Sleep Duration</th>\n",
              "      <th>Dietary Habits</th>\n",
              "      <th>Degree</th>\n",
              "      <th>Have you ever had suicidal thoughts ?</th>\n",
              "      <th>Work/Study Hours</th>\n",
              "      <th>Financial Stress</th>\n",
              "      <th>Family History of Mental Illness</th>\n",
              "      <th>Depression</th>\n",
              "    </tr>\n",
              "  </thead>\n",
              "  <tbody>\n",
              "    <tr>\n",
              "      <th>0</th>\n",
              "      <td>0</td>\n",
              "      <td>Aaradhya</td>\n",
              "      <td>Female</td>\n",
              "      <td>49.0</td>\n",
              "      <td>Ludhiana</td>\n",
              "      <td>Working Professional</td>\n",
              "      <td>Chef</td>\n",
              "      <td>NaN</td>\n",
              "      <td>5.0</td>\n",
              "      <td>NaN</td>\n",
              "      <td>NaN</td>\n",
              "      <td>2.0</td>\n",
              "      <td>More than 8 hours</td>\n",
              "      <td>Healthy</td>\n",
              "      <td>BHM</td>\n",
              "      <td>No</td>\n",
              "      <td>1.0</td>\n",
              "      <td>2.0</td>\n",
              "      <td>No</td>\n",
              "      <td>0</td>\n",
              "    </tr>\n",
              "    <tr>\n",
              "      <th>1</th>\n",
              "      <td>1</td>\n",
              "      <td>Vivan</td>\n",
              "      <td>Male</td>\n",
              "      <td>26.0</td>\n",
              "      <td>Varanasi</td>\n",
              "      <td>Working Professional</td>\n",
              "      <td>Teacher</td>\n",
              "      <td>NaN</td>\n",
              "      <td>4.0</td>\n",
              "      <td>NaN</td>\n",
              "      <td>NaN</td>\n",
              "      <td>3.0</td>\n",
              "      <td>Less than 5 hours</td>\n",
              "      <td>Unhealthy</td>\n",
              "      <td>LLB</td>\n",
              "      <td>Yes</td>\n",
              "      <td>7.0</td>\n",
              "      <td>3.0</td>\n",
              "      <td>No</td>\n",
              "      <td>1</td>\n",
              "    </tr>\n",
              "    <tr>\n",
              "      <th>2</th>\n",
              "      <td>2</td>\n",
              "      <td>Yuvraj</td>\n",
              "      <td>Male</td>\n",
              "      <td>33.0</td>\n",
              "      <td>Visakhapatnam</td>\n",
              "      <td>Student</td>\n",
              "      <td>NaN</td>\n",
              "      <td>5.0</td>\n",
              "      <td>NaN</td>\n",
              "      <td>8.97</td>\n",
              "      <td>2.0</td>\n",
              "      <td>NaN</td>\n",
              "      <td>5-6 hours</td>\n",
              "      <td>Healthy</td>\n",
              "      <td>B.Pharm</td>\n",
              "      <td>Yes</td>\n",
              "      <td>3.0</td>\n",
              "      <td>1.0</td>\n",
              "      <td>No</td>\n",
              "      <td>1</td>\n",
              "    </tr>\n",
              "    <tr>\n",
              "      <th>3</th>\n",
              "      <td>3</td>\n",
              "      <td>Yuvraj</td>\n",
              "      <td>Male</td>\n",
              "      <td>22.0</td>\n",
              "      <td>Mumbai</td>\n",
              "      <td>Working Professional</td>\n",
              "      <td>Teacher</td>\n",
              "      <td>NaN</td>\n",
              "      <td>5.0</td>\n",
              "      <td>NaN</td>\n",
              "      <td>NaN</td>\n",
              "      <td>1.0</td>\n",
              "      <td>Less than 5 hours</td>\n",
              "      <td>Moderate</td>\n",
              "      <td>BBA</td>\n",
              "      <td>Yes</td>\n",
              "      <td>10.0</td>\n",
              "      <td>1.0</td>\n",
              "      <td>Yes</td>\n",
              "      <td>1</td>\n",
              "    </tr>\n",
              "    <tr>\n",
              "      <th>4</th>\n",
              "      <td>4</td>\n",
              "      <td>Rhea</td>\n",
              "      <td>Female</td>\n",
              "      <td>30.0</td>\n",
              "      <td>Kanpur</td>\n",
              "      <td>Working Professional</td>\n",
              "      <td>Business Analyst</td>\n",
              "      <td>NaN</td>\n",
              "      <td>1.0</td>\n",
              "      <td>NaN</td>\n",
              "      <td>NaN</td>\n",
              "      <td>1.0</td>\n",
              "      <td>5-6 hours</td>\n",
              "      <td>Unhealthy</td>\n",
              "      <td>BBA</td>\n",
              "      <td>Yes</td>\n",
              "      <td>9.0</td>\n",
              "      <td>4.0</td>\n",
              "      <td>Yes</td>\n",
              "      <td>0</td>\n",
              "    </tr>\n",
              "  </tbody>\n",
              "</table>\n",
              "</div>"
            ],
            "text/plain": [
              "   id      Name  Gender   Age           City Working Professional or Student  \\\n",
              "0   0  Aaradhya  Female  49.0       Ludhiana            Working Professional   \n",
              "1   1     Vivan    Male  26.0       Varanasi            Working Professional   \n",
              "2   2    Yuvraj    Male  33.0  Visakhapatnam                         Student   \n",
              "3   3    Yuvraj    Male  22.0         Mumbai            Working Professional   \n",
              "4   4      Rhea  Female  30.0         Kanpur            Working Professional   \n",
              "\n",
              "         Profession  Academic Pressure  Work Pressure  CGPA  \\\n",
              "0              Chef                NaN            5.0   NaN   \n",
              "1           Teacher                NaN            4.0   NaN   \n",
              "2               NaN                5.0            NaN  8.97   \n",
              "3           Teacher                NaN            5.0   NaN   \n",
              "4  Business Analyst                NaN            1.0   NaN   \n",
              "\n",
              "   Study Satisfaction  Job Satisfaction     Sleep Duration Dietary Habits  \\\n",
              "0                 NaN               2.0  More than 8 hours        Healthy   \n",
              "1                 NaN               3.0  Less than 5 hours      Unhealthy   \n",
              "2                 2.0               NaN          5-6 hours        Healthy   \n",
              "3                 NaN               1.0  Less than 5 hours       Moderate   \n",
              "4                 NaN               1.0          5-6 hours      Unhealthy   \n",
              "\n",
              "    Degree Have you ever had suicidal thoughts ?  Work/Study Hours  \\\n",
              "0      BHM                                    No               1.0   \n",
              "1      LLB                                   Yes               7.0   \n",
              "2  B.Pharm                                   Yes               3.0   \n",
              "3      BBA                                   Yes              10.0   \n",
              "4      BBA                                   Yes               9.0   \n",
              "\n",
              "   Financial Stress Family History of Mental Illness  Depression  \n",
              "0               2.0                               No           0  \n",
              "1               3.0                               No           1  \n",
              "2               1.0                               No           1  \n",
              "3               1.0                              Yes           1  \n",
              "4               4.0                              Yes           0  "
            ]
          },
          "execution_count": 21,
          "metadata": {},
          "output_type": "execute_result"
        }
      ],
      "source": [
        "train_df.head()"
      ]
    },
    {
      "cell_type": "code",
      "execution_count": 18,
      "metadata": {
        "id": "wqdkADDDhsV4"
      },
      "outputs": [],
      "source": [
        "test_df = pd.read_csv(r\"C:\\Users\\gowth\\Desktop\\B27_DS\\Project Mental Health\\test.csv\")"
      ]
    },
    {
      "cell_type": "code",
      "execution_count": 22,
      "metadata": {
        "colab": {
          "base_uri": "https://localhost:8080/",
          "height": 399
        },
        "id": "krwZcsuxiHFb",
        "outputId": "72e11c07-73e3-4e75-afa4-7cfe58b926d8"
      },
      "outputs": [
        {
          "data": {
            "text/html": [
              "<div>\n",
              "<style scoped>\n",
              "    .dataframe tbody tr th:only-of-type {\n",
              "        vertical-align: middle;\n",
              "    }\n",
              "\n",
              "    .dataframe tbody tr th {\n",
              "        vertical-align: top;\n",
              "    }\n",
              "\n",
              "    .dataframe thead th {\n",
              "        text-align: right;\n",
              "    }\n",
              "</style>\n",
              "<table border=\"1\" class=\"dataframe\">\n",
              "  <thead>\n",
              "    <tr style=\"text-align: right;\">\n",
              "      <th></th>\n",
              "      <th>id</th>\n",
              "      <th>Name</th>\n",
              "      <th>Gender</th>\n",
              "      <th>Age</th>\n",
              "      <th>City</th>\n",
              "      <th>Working Professional or Student</th>\n",
              "      <th>Profession</th>\n",
              "      <th>Academic Pressure</th>\n",
              "      <th>Work Pressure</th>\n",
              "      <th>CGPA</th>\n",
              "      <th>Study Satisfaction</th>\n",
              "      <th>Job Satisfaction</th>\n",
              "      <th>Sleep Duration</th>\n",
              "      <th>Dietary Habits</th>\n",
              "      <th>Degree</th>\n",
              "      <th>Have you ever had suicidal thoughts ?</th>\n",
              "      <th>Work/Study Hours</th>\n",
              "      <th>Financial Stress</th>\n",
              "      <th>Family History of Mental Illness</th>\n",
              "    </tr>\n",
              "  </thead>\n",
              "  <tbody>\n",
              "    <tr>\n",
              "      <th>0</th>\n",
              "      <td>140700</td>\n",
              "      <td>Shivam</td>\n",
              "      <td>Male</td>\n",
              "      <td>53.0</td>\n",
              "      <td>Visakhapatnam</td>\n",
              "      <td>Working Professional</td>\n",
              "      <td>Judge</td>\n",
              "      <td>NaN</td>\n",
              "      <td>2.0</td>\n",
              "      <td>NaN</td>\n",
              "      <td>NaN</td>\n",
              "      <td>5.0</td>\n",
              "      <td>Less than 5 hours</td>\n",
              "      <td>Moderate</td>\n",
              "      <td>LLB</td>\n",
              "      <td>No</td>\n",
              "      <td>9.0</td>\n",
              "      <td>3.0</td>\n",
              "      <td>Yes</td>\n",
              "    </tr>\n",
              "    <tr>\n",
              "      <th>1</th>\n",
              "      <td>140701</td>\n",
              "      <td>Sanya</td>\n",
              "      <td>Female</td>\n",
              "      <td>58.0</td>\n",
              "      <td>Kolkata</td>\n",
              "      <td>Working Professional</td>\n",
              "      <td>Educational Consultant</td>\n",
              "      <td>NaN</td>\n",
              "      <td>2.0</td>\n",
              "      <td>NaN</td>\n",
              "      <td>NaN</td>\n",
              "      <td>4.0</td>\n",
              "      <td>Less than 5 hours</td>\n",
              "      <td>Moderate</td>\n",
              "      <td>B.Ed</td>\n",
              "      <td>No</td>\n",
              "      <td>6.0</td>\n",
              "      <td>4.0</td>\n",
              "      <td>No</td>\n",
              "    </tr>\n",
              "    <tr>\n",
              "      <th>2</th>\n",
              "      <td>140702</td>\n",
              "      <td>Yash</td>\n",
              "      <td>Male</td>\n",
              "      <td>53.0</td>\n",
              "      <td>Jaipur</td>\n",
              "      <td>Working Professional</td>\n",
              "      <td>Teacher</td>\n",
              "      <td>NaN</td>\n",
              "      <td>4.0</td>\n",
              "      <td>NaN</td>\n",
              "      <td>NaN</td>\n",
              "      <td>1.0</td>\n",
              "      <td>7-8 hours</td>\n",
              "      <td>Moderate</td>\n",
              "      <td>B.Arch</td>\n",
              "      <td>Yes</td>\n",
              "      <td>12.0</td>\n",
              "      <td>4.0</td>\n",
              "      <td>No</td>\n",
              "    </tr>\n",
              "    <tr>\n",
              "      <th>3</th>\n",
              "      <td>140703</td>\n",
              "      <td>Nalini</td>\n",
              "      <td>Female</td>\n",
              "      <td>23.0</td>\n",
              "      <td>Rajkot</td>\n",
              "      <td>Student</td>\n",
              "      <td>NaN</td>\n",
              "      <td>5.0</td>\n",
              "      <td>NaN</td>\n",
              "      <td>6.84</td>\n",
              "      <td>1.0</td>\n",
              "      <td>NaN</td>\n",
              "      <td>More than 8 hours</td>\n",
              "      <td>Moderate</td>\n",
              "      <td>BSc</td>\n",
              "      <td>Yes</td>\n",
              "      <td>10.0</td>\n",
              "      <td>4.0</td>\n",
              "      <td>No</td>\n",
              "    </tr>\n",
              "    <tr>\n",
              "      <th>4</th>\n",
              "      <td>140704</td>\n",
              "      <td>Shaurya</td>\n",
              "      <td>Male</td>\n",
              "      <td>47.0</td>\n",
              "      <td>Kalyan</td>\n",
              "      <td>Working Professional</td>\n",
              "      <td>Teacher</td>\n",
              "      <td>NaN</td>\n",
              "      <td>5.0</td>\n",
              "      <td>NaN</td>\n",
              "      <td>NaN</td>\n",
              "      <td>5.0</td>\n",
              "      <td>7-8 hours</td>\n",
              "      <td>Moderate</td>\n",
              "      <td>BCA</td>\n",
              "      <td>Yes</td>\n",
              "      <td>3.0</td>\n",
              "      <td>4.0</td>\n",
              "      <td>No</td>\n",
              "    </tr>\n",
              "  </tbody>\n",
              "</table>\n",
              "</div>"
            ],
            "text/plain": [
              "       id     Name  Gender   Age           City  \\\n",
              "0  140700   Shivam    Male  53.0  Visakhapatnam   \n",
              "1  140701    Sanya  Female  58.0        Kolkata   \n",
              "2  140702     Yash    Male  53.0         Jaipur   \n",
              "3  140703   Nalini  Female  23.0         Rajkot   \n",
              "4  140704  Shaurya    Male  47.0         Kalyan   \n",
              "\n",
              "  Working Professional or Student              Profession  Academic Pressure  \\\n",
              "0            Working Professional                   Judge                NaN   \n",
              "1            Working Professional  Educational Consultant                NaN   \n",
              "2            Working Professional                 Teacher                NaN   \n",
              "3                         Student                     NaN                5.0   \n",
              "4            Working Professional                 Teacher                NaN   \n",
              "\n",
              "   Work Pressure  CGPA  Study Satisfaction  Job Satisfaction  \\\n",
              "0            2.0   NaN                 NaN               5.0   \n",
              "1            2.0   NaN                 NaN               4.0   \n",
              "2            4.0   NaN                 NaN               1.0   \n",
              "3            NaN  6.84                 1.0               NaN   \n",
              "4            5.0   NaN                 NaN               5.0   \n",
              "\n",
              "      Sleep Duration Dietary Habits  Degree  \\\n",
              "0  Less than 5 hours       Moderate     LLB   \n",
              "1  Less than 5 hours       Moderate    B.Ed   \n",
              "2          7-8 hours       Moderate  B.Arch   \n",
              "3  More than 8 hours       Moderate     BSc   \n",
              "4          7-8 hours       Moderate     BCA   \n",
              "\n",
              "  Have you ever had suicidal thoughts ?  Work/Study Hours  Financial Stress  \\\n",
              "0                                    No               9.0               3.0   \n",
              "1                                    No               6.0               4.0   \n",
              "2                                   Yes              12.0               4.0   \n",
              "3                                   Yes              10.0               4.0   \n",
              "4                                   Yes               3.0               4.0   \n",
              "\n",
              "  Family History of Mental Illness  \n",
              "0                              Yes  \n",
              "1                               No  \n",
              "2                               No  \n",
              "3                               No  \n",
              "4                               No  "
            ]
          },
          "execution_count": 22,
          "metadata": {},
          "output_type": "execute_result"
        }
      ],
      "source": [
        "test_df.head()"
      ]
    },
    {
      "cell_type": "code",
      "execution_count": 23,
      "metadata": {
        "colab": {
          "base_uri": "https://localhost:8080/"
        },
        "id": "OHN1ZkF9iIXp",
        "outputId": "14a20e8b-ef64-447c-bfc0-53d8dbfcff41"
      },
      "outputs": [
        {
          "data": {
            "text/plain": [
              "Index(['id', 'Name', 'Gender', 'Age', 'City',\n",
              "       'Working Professional or Student', 'Profession', 'Academic Pressure',\n",
              "       'Work Pressure', 'CGPA', 'Study Satisfaction', 'Job Satisfaction',\n",
              "       'Sleep Duration', 'Dietary Habits', 'Degree',\n",
              "       'Have you ever had suicidal thoughts ?', 'Work/Study Hours',\n",
              "       'Financial Stress', 'Family History of Mental Illness', 'Depression'],\n",
              "      dtype='object')"
            ]
          },
          "execution_count": 23,
          "metadata": {},
          "output_type": "execute_result"
        }
      ],
      "source": [
        "train_df.columns"
      ]
    },
    {
      "cell_type": "code",
      "execution_count": 24,
      "metadata": {
        "colab": {
          "base_uri": "https://localhost:8080/"
        },
        "id": "HQTdZdeAiME_",
        "outputId": "f0b37ec6-83f4-4031-82ef-61bf7dc0534d"
      },
      "outputs": [
        {
          "data": {
            "text/plain": [
              "Index(['id', 'Name', 'Gender', 'Age', 'City',\n",
              "       'Working Professional or Student', 'Profession', 'Academic Pressure',\n",
              "       'Work Pressure', 'CGPA', 'Study Satisfaction', 'Job Satisfaction',\n",
              "       'Sleep Duration', 'Dietary Habits', 'Degree',\n",
              "       'Have you ever had suicidal thoughts ?', 'Work/Study Hours',\n",
              "       'Financial Stress', 'Family History of Mental Illness'],\n",
              "      dtype='object')"
            ]
          },
          "execution_count": 24,
          "metadata": {},
          "output_type": "execute_result"
        }
      ],
      "source": [
        "test_df.columns"
      ]
    },
    {
      "cell_type": "code",
      "execution_count": 25,
      "metadata": {
        "colab": {
          "base_uri": "https://localhost:8080/"
        },
        "id": "_KEaYcQviNhw",
        "outputId": "907cbfd5-43d0-4b2b-b214-dd74d2c403cc"
      },
      "outputs": [
        {
          "data": {
            "text/plain": [
              "(140700, 20)"
            ]
          },
          "execution_count": 25,
          "metadata": {},
          "output_type": "execute_result"
        }
      ],
      "source": [
        "train_df.shape"
      ]
    },
    {
      "cell_type": "code",
      "execution_count": 26,
      "metadata": {
        "colab": {
          "base_uri": "https://localhost:8080/"
        },
        "id": "L1xXgztmiPvq",
        "outputId": "8036d8dc-142d-4c33-a8c6-35e4e19d72aa"
      },
      "outputs": [
        {
          "data": {
            "text/plain": [
              "(93800, 19)"
            ]
          },
          "execution_count": 26,
          "metadata": {},
          "output_type": "execute_result"
        }
      ],
      "source": [
        "test_df.shape"
      ]
    },
    {
      "cell_type": "code",
      "execution_count": 27,
      "metadata": {
        "colab": {
          "base_uri": "https://localhost:8080/"
        },
        "id": "g0BydD4gCI2E",
        "outputId": "3027ee5b-314d-486a-e981-4bbe0ade063f"
      },
      "outputs": [
        {
          "name": "stdout",
          "output_type": "stream",
          "text": [
            "<class 'pandas.core.frame.DataFrame'>\n",
            "RangeIndex: 140700 entries, 0 to 140699\n",
            "Data columns (total 20 columns):\n",
            " #   Column                                 Non-Null Count   Dtype  \n",
            "---  ------                                 --------------   -----  \n",
            " 0   id                                     140700 non-null  int64  \n",
            " 1   Name                                   140700 non-null  object \n",
            " 2   Gender                                 140700 non-null  object \n",
            " 3   Age                                    140700 non-null  float64\n",
            " 4   City                                   140700 non-null  object \n",
            " 5   Working Professional or Student        140700 non-null  object \n",
            " 6   Profession                             104070 non-null  object \n",
            " 7   Academic Pressure                      27897 non-null   float64\n",
            " 8   Work Pressure                          112782 non-null  float64\n",
            " 9   CGPA                                   27898 non-null   float64\n",
            " 10  Study Satisfaction                     27897 non-null   float64\n",
            " 11  Job Satisfaction                       112790 non-null  float64\n",
            " 12  Sleep Duration                         140700 non-null  object \n",
            " 13  Dietary Habits                         140696 non-null  object \n",
            " 14  Degree                                 140698 non-null  object \n",
            " 15  Have you ever had suicidal thoughts ?  140700 non-null  object \n",
            " 16  Work/Study Hours                       140700 non-null  float64\n",
            " 17  Financial Stress                       140696 non-null  float64\n",
            " 18  Family History of Mental Illness       140700 non-null  object \n",
            " 19  Depression                             140700 non-null  int64  \n",
            "dtypes: float64(8), int64(2), object(10)\n",
            "memory usage: 21.5+ MB\n"
          ]
        }
      ],
      "source": [
        "train_df.info()"
      ]
    },
    {
      "cell_type": "code",
      "execution_count": 28,
      "metadata": {
        "colab": {
          "base_uri": "https://localhost:8080/"
        },
        "id": "rYZYMghECIyd",
        "outputId": "99785ea7-4c69-4b65-8390-9c0ed5713fc2"
      },
      "outputs": [
        {
          "name": "stdout",
          "output_type": "stream",
          "text": [
            "<class 'pandas.core.frame.DataFrame'>\n",
            "RangeIndex: 93800 entries, 0 to 93799\n",
            "Data columns (total 19 columns):\n",
            " #   Column                                 Non-Null Count  Dtype  \n",
            "---  ------                                 --------------  -----  \n",
            " 0   id                                     93800 non-null  int64  \n",
            " 1   Name                                   93800 non-null  object \n",
            " 2   Gender                                 93800 non-null  object \n",
            " 3   Age                                    93800 non-null  float64\n",
            " 4   City                                   93800 non-null  object \n",
            " 5   Working Professional or Student        93800 non-null  object \n",
            " 6   Profession                             69168 non-null  object \n",
            " 7   Academic Pressure                      18767 non-null  float64\n",
            " 8   Work Pressure                          75022 non-null  float64\n",
            " 9   CGPA                                   18766 non-null  float64\n",
            " 10  Study Satisfaction                     18767 non-null  float64\n",
            " 11  Job Satisfaction                       75026 non-null  float64\n",
            " 12  Sleep Duration                         93800 non-null  object \n",
            " 13  Dietary Habits                         93795 non-null  object \n",
            " 14  Degree                                 93798 non-null  object \n",
            " 15  Have you ever had suicidal thoughts ?  93800 non-null  object \n",
            " 16  Work/Study Hours                       93800 non-null  float64\n",
            " 17  Financial Stress                       93800 non-null  float64\n",
            " 18  Family History of Mental Illness       93800 non-null  object \n",
            "dtypes: float64(8), int64(1), object(10)\n",
            "memory usage: 13.6+ MB\n"
          ]
        }
      ],
      "source": [
        "test_df.info()"
      ]
    },
    {
      "cell_type": "markdown",
      "metadata": {
        "id": "lp3qHmlJkgpw"
      },
      "source": [
        "### 1.2) HANDLING MISSING VALUES"
      ]
    },
    {
      "cell_type": "code",
      "execution_count": 29,
      "metadata": {
        "id": "Wa354b0_BO-i"
      },
      "outputs": [],
      "source": [
        "train_df.drop(columns=[\"id\", \"Name\"], inplace=True)\n",
        "test_df.drop(columns=[\"id\", \"Name\"], inplace=True)"
      ]
    },
    {
      "cell_type": "code",
      "execution_count": 30,
      "metadata": {
        "id": "tqpnKD_tMjG0"
      },
      "outputs": [],
      "source": [
        "categorical_cols = [\"Profession\", \"Dietary Habits\", \"Degree\"]\n",
        "for col in categorical_cols:\n",
        "    train_df[col].fillna(train_df[col].mode()[0], inplace=True)\n",
        "    test_df[col].fillna(test_df[col].mode()[0], inplace=True)"
      ]
    },
    {
      "cell_type": "code",
      "execution_count": 31,
      "metadata": {
        "id": "malChIrbMl_Z"
      },
      "outputs": [],
      "source": [
        "numerical_cols = [\"Academic Pressure\", \"Work Pressure\", \"CGPA\", \"Study Satisfaction\", \"Job Satisfaction\"]\n",
        "for col in numerical_cols:\n",
        "    train_df[col].fillna(train_df[col].median(), inplace=True)\n",
        "    test_df[col].fillna(test_df[col].median(), inplace=True)"
      ]
    },
    {
      "cell_type": "code",
      "execution_count": 32,
      "metadata": {
        "id": "DWO4pDeO4Wig"
      },
      "outputs": [],
      "source": [
        "train_df[\"Financial Stress\"].fillna(train_df[\"Financial Stress\"].median(), inplace=True)"
      ]
    },
    {
      "cell_type": "code",
      "execution_count": 33,
      "metadata": {
        "colab": {
          "base_uri": "https://localhost:8080/"
        },
        "id": "KxzcUZynMo-p",
        "outputId": "22486391-76a6-48d7-dbf6-ed1482c8cd31"
      },
      "outputs": [
        {
          "data": {
            "text/plain": [
              "(Gender                                   0\n",
              " Age                                      0\n",
              " City                                     0\n",
              " Working Professional or Student          0\n",
              " Profession                               0\n",
              " Academic Pressure                        0\n",
              " Work Pressure                            0\n",
              " CGPA                                     0\n",
              " Study Satisfaction                       0\n",
              " Job Satisfaction                         0\n",
              " Sleep Duration                           0\n",
              " Dietary Habits                           0\n",
              " Degree                                   0\n",
              " Have you ever had suicidal thoughts ?    0\n",
              " Work/Study Hours                         0\n",
              " Financial Stress                         0\n",
              " Family History of Mental Illness         0\n",
              " Depression                               0\n",
              " dtype: int64,\n",
              " Gender                                   0\n",
              " Age                                      0\n",
              " City                                     0\n",
              " Working Professional or Student          0\n",
              " Profession                               0\n",
              " Academic Pressure                        0\n",
              " Work Pressure                            0\n",
              " CGPA                                     0\n",
              " Study Satisfaction                       0\n",
              " Job Satisfaction                         0\n",
              " Sleep Duration                           0\n",
              " Dietary Habits                           0\n",
              " Degree                                   0\n",
              " Have you ever had suicidal thoughts ?    0\n",
              " Work/Study Hours                         0\n",
              " Financial Stress                         0\n",
              " Family History of Mental Illness         0\n",
              " dtype: int64)"
            ]
          },
          "execution_count": 33,
          "metadata": {},
          "output_type": "execute_result"
        }
      ],
      "source": [
        "train_df.isna().sum(), test_df.isna().sum()"
      ]
    },
    {
      "cell_type": "code",
      "execution_count": 34,
      "metadata": {
        "colab": {
          "base_uri": "https://localhost:8080/"
        },
        "id": "hzFAhnscMxV_",
        "outputId": "f7b94b1b-6b62-4257-de07-e21a5385ff7e"
      },
      "outputs": [
        {
          "data": {
            "text/plain": [
              "(0, 0)"
            ]
          },
          "execution_count": 34,
          "metadata": {},
          "output_type": "execute_result"
        }
      ],
      "source": [
        "train_df.isna().sum().sum(), test_df.isna().sum().sum()"
      ]
    },
    {
      "cell_type": "markdown",
      "metadata": {
        "id": "95p0Y1ZtM678"
      },
      "source": [
        "### 1.3) ENCODING CATEGORICAL VARIABLES"
      ]
    },
    {
      "cell_type": "code",
      "execution_count": 35,
      "metadata": {
        "colab": {
          "base_uri": "https://localhost:8080/"
        },
        "id": "XM0zmIfzPT1J",
        "outputId": "8871b7bf-209c-463d-d040-4b7a99ba5b1a"
      },
      "outputs": [
        {
          "name": "stdout",
          "output_type": "stream",
          "text": [
            "Categorical Encoding Complete!\n"
          ]
        }
      ],
      "source": [
        "categorical_columns = train_df.select_dtypes(include=[\"object\"]).columns.tolist()\n",
        "\n",
        "le_dict = {}\n",
        "\n",
        "for col in categorical_columns:\n",
        "    train_df[col] = train_df[col].astype(str)\n",
        "    test_df[col] = test_df[col].astype(str)\n",
        "\n",
        "    le = LabelEncoder()\n",
        "\n",
        "    train_labels = list(train_df[col].unique()) + [\"Unknown\"]\n",
        "    le.fit(train_labels)\n",
        "    le_dict[col] = le\n",
        "\n",
        "    train_df[col] = le.transform(train_df[col])\n",
        "\n",
        "    test_df[col] = test_df[col].apply(lambda x: x if x in train_labels else \"Unknown\")\n",
        "\n",
        "    test_df[col] = le.transform(test_df[col])\n",
        "\n",
        "print(\"Categorical Encoding Complete!\")"
      ]
    },
    {
      "cell_type": "markdown",
      "metadata": {
        "id": "jECnvo9uaoA2"
      },
      "source": [
        "### 1.4) NORMALIZE CONTINUOUS FEATURES"
      ]
    },
    {
      "cell_type": "code",
      "execution_count": 36,
      "metadata": {
        "colab": {
          "base_uri": "https://localhost:8080/"
        },
        "id": "mjHLbokRYQDB",
        "outputId": "73f63b1f-8a41-4ec5-940d-bd71802d016b"
      },
      "outputs": [
        {
          "name": "stdout",
          "output_type": "stream",
          "text": [
            "Continuous features normalized successfully!\n"
          ]
        }
      ],
      "source": [
        "numerical_columns = train_df.select_dtypes(include=[\"int64\", \"float64\"]).columns.tolist()\n",
        "numerical_columns.remove(\"Depression\")  # Exclude target variable\n",
        "\n",
        "scaler = MinMaxScaler()\n",
        "\n",
        "train_df[numerical_columns] = scaler.fit_transform(train_df[numerical_columns])\n",
        "test_df[numerical_columns] = scaler.transform(test_df[numerical_columns])\n",
        "\n",
        "print(\"Continuous features normalized successfully!\")"
      ]
    },
    {
      "cell_type": "code",
      "execution_count": 37,
      "metadata": {
        "colab": {
          "base_uri": "https://localhost:8080/",
          "height": 178
        },
        "id": "z9YLncOl6aIX",
        "outputId": "527fc8d4-c75e-4019-d34c-9c3f75952424"
      },
      "outputs": [
        {
          "data": {
            "text/plain": [
              "Depression\n",
              "0    115133\n",
              "1     25567\n",
              "Name: count, dtype: int64"
            ]
          },
          "execution_count": 37,
          "metadata": {},
          "output_type": "execute_result"
        }
      ],
      "source": [
        "train_df[\"Depression\"].value_counts()"
      ]
    },
    {
      "cell_type": "markdown",
      "metadata": {
        "id": "AhEM_qTUEtGw"
      },
      "source": [
        "### 2) HANDLING CLASS IMBALANCE"
      ]
    },
    {
      "cell_type": "markdown",
      "metadata": {
        "id": "c56DSZT05mmO"
      },
      "source": [
        "### 2.1) OVERSAMPLING"
      ]
    },
    {
      "cell_type": "code",
      "execution_count": 38,
      "metadata": {
        "id": "DRZMVKi76dwb"
      },
      "outputs": [],
      "source": [
        "smote = SMOTE(sampling_strategy=\"auto\", random_state=42)"
      ]
    },
    {
      "cell_type": "code",
      "execution_count": 39,
      "metadata": {
        "colab": {
          "base_uri": "https://localhost:8080/",
          "height": 80
        },
        "id": "ftudNqrRD6Gk",
        "outputId": "f80708f8-0f81-4581-ebb0-b017ff55c300"
      },
      "outputs": [
        {
          "data": {
            "text/html": [
              "<style>#sk-container-id-1 {\n",
              "  /* Definition of color scheme common for light and dark mode */\n",
              "  --sklearn-color-text: #000;\n",
              "  --sklearn-color-text-muted: #666;\n",
              "  --sklearn-color-line: gray;\n",
              "  /* Definition of color scheme for unfitted estimators */\n",
              "  --sklearn-color-unfitted-level-0: #fff5e6;\n",
              "  --sklearn-color-unfitted-level-1: #f6e4d2;\n",
              "  --sklearn-color-unfitted-level-2: #ffe0b3;\n",
              "  --sklearn-color-unfitted-level-3: chocolate;\n",
              "  /* Definition of color scheme for fitted estimators */\n",
              "  --sklearn-color-fitted-level-0: #f0f8ff;\n",
              "  --sklearn-color-fitted-level-1: #d4ebff;\n",
              "  --sklearn-color-fitted-level-2: #b3dbfd;\n",
              "  --sklearn-color-fitted-level-3: cornflowerblue;\n",
              "\n",
              "  /* Specific color for light theme */\n",
              "  --sklearn-color-text-on-default-background: var(--sg-text-color, var(--theme-code-foreground, var(--jp-content-font-color1, black)));\n",
              "  --sklearn-color-background: var(--sg-background-color, var(--theme-background, var(--jp-layout-color0, white)));\n",
              "  --sklearn-color-border-box: var(--sg-text-color, var(--theme-code-foreground, var(--jp-content-font-color1, black)));\n",
              "  --sklearn-color-icon: #696969;\n",
              "\n",
              "  @media (prefers-color-scheme: dark) {\n",
              "    /* Redefinition of color scheme for dark theme */\n",
              "    --sklearn-color-text-on-default-background: var(--sg-text-color, var(--theme-code-foreground, var(--jp-content-font-color1, white)));\n",
              "    --sklearn-color-background: var(--sg-background-color, var(--theme-background, var(--jp-layout-color0, #111)));\n",
              "    --sklearn-color-border-box: var(--sg-text-color, var(--theme-code-foreground, var(--jp-content-font-color1, white)));\n",
              "    --sklearn-color-icon: #878787;\n",
              "  }\n",
              "}\n",
              "\n",
              "#sk-container-id-1 {\n",
              "  color: var(--sklearn-color-text);\n",
              "}\n",
              "\n",
              "#sk-container-id-1 pre {\n",
              "  padding: 0;\n",
              "}\n",
              "\n",
              "#sk-container-id-1 input.sk-hidden--visually {\n",
              "  border: 0;\n",
              "  clip: rect(1px 1px 1px 1px);\n",
              "  clip: rect(1px, 1px, 1px, 1px);\n",
              "  height: 1px;\n",
              "  margin: -1px;\n",
              "  overflow: hidden;\n",
              "  padding: 0;\n",
              "  position: absolute;\n",
              "  width: 1px;\n",
              "}\n",
              "\n",
              "#sk-container-id-1 div.sk-dashed-wrapped {\n",
              "  border: 1px dashed var(--sklearn-color-line);\n",
              "  margin: 0 0.4em 0.5em 0.4em;\n",
              "  box-sizing: border-box;\n",
              "  padding-bottom: 0.4em;\n",
              "  background-color: var(--sklearn-color-background);\n",
              "}\n",
              "\n",
              "#sk-container-id-1 div.sk-container {\n",
              "  /* jupyter's `normalize.less` sets `[hidden] { display: none; }`\n",
              "     but bootstrap.min.css set `[hidden] { display: none !important; }`\n",
              "     so we also need the `!important` here to be able to override the\n",
              "     default hidden behavior on the sphinx rendered scikit-learn.org.\n",
              "     See: https://github.com/scikit-learn/scikit-learn/issues/21755 */\n",
              "  display: inline-block !important;\n",
              "  position: relative;\n",
              "}\n",
              "\n",
              "#sk-container-id-1 div.sk-text-repr-fallback {\n",
              "  display: none;\n",
              "}\n",
              "\n",
              "div.sk-parallel-item,\n",
              "div.sk-serial,\n",
              "div.sk-item {\n",
              "  /* draw centered vertical line to link estimators */\n",
              "  background-image: linear-gradient(var(--sklearn-color-text-on-default-background), var(--sklearn-color-text-on-default-background));\n",
              "  background-size: 2px 100%;\n",
              "  background-repeat: no-repeat;\n",
              "  background-position: center center;\n",
              "}\n",
              "\n",
              "/* Parallel-specific style estimator block */\n",
              "\n",
              "#sk-container-id-1 div.sk-parallel-item::after {\n",
              "  content: \"\";\n",
              "  width: 100%;\n",
              "  border-bottom: 2px solid var(--sklearn-color-text-on-default-background);\n",
              "  flex-grow: 1;\n",
              "}\n",
              "\n",
              "#sk-container-id-1 div.sk-parallel {\n",
              "  display: flex;\n",
              "  align-items: stretch;\n",
              "  justify-content: center;\n",
              "  background-color: var(--sklearn-color-background);\n",
              "  position: relative;\n",
              "}\n",
              "\n",
              "#sk-container-id-1 div.sk-parallel-item {\n",
              "  display: flex;\n",
              "  flex-direction: column;\n",
              "}\n",
              "\n",
              "#sk-container-id-1 div.sk-parallel-item:first-child::after {\n",
              "  align-self: flex-end;\n",
              "  width: 50%;\n",
              "}\n",
              "\n",
              "#sk-container-id-1 div.sk-parallel-item:last-child::after {\n",
              "  align-self: flex-start;\n",
              "  width: 50%;\n",
              "}\n",
              "\n",
              "#sk-container-id-1 div.sk-parallel-item:only-child::after {\n",
              "  width: 0;\n",
              "}\n",
              "\n",
              "/* Serial-specific style estimator block */\n",
              "\n",
              "#sk-container-id-1 div.sk-serial {\n",
              "  display: flex;\n",
              "  flex-direction: column;\n",
              "  align-items: center;\n",
              "  background-color: var(--sklearn-color-background);\n",
              "  padding-right: 1em;\n",
              "  padding-left: 1em;\n",
              "}\n",
              "\n",
              "\n",
              "/* Toggleable style: style used for estimator/Pipeline/ColumnTransformer box that is\n",
              "clickable and can be expanded/collapsed.\n",
              "- Pipeline and ColumnTransformer use this feature and define the default style\n",
              "- Estimators will overwrite some part of the style using the `sk-estimator` class\n",
              "*/\n",
              "\n",
              "/* Pipeline and ColumnTransformer style (default) */\n",
              "\n",
              "#sk-container-id-1 div.sk-toggleable {\n",
              "  /* Default theme specific background. It is overwritten whether we have a\n",
              "  specific estimator or a Pipeline/ColumnTransformer */\n",
              "  background-color: var(--sklearn-color-background);\n",
              "}\n",
              "\n",
              "/* Toggleable label */\n",
              "#sk-container-id-1 label.sk-toggleable__label {\n",
              "  cursor: pointer;\n",
              "  display: flex;\n",
              "  width: 100%;\n",
              "  margin-bottom: 0;\n",
              "  padding: 0.5em;\n",
              "  box-sizing: border-box;\n",
              "  text-align: center;\n",
              "  align-items: start;\n",
              "  justify-content: space-between;\n",
              "  gap: 0.5em;\n",
              "}\n",
              "\n",
              "#sk-container-id-1 label.sk-toggleable__label .caption {\n",
              "  font-size: 0.6rem;\n",
              "  font-weight: lighter;\n",
              "  color: var(--sklearn-color-text-muted);\n",
              "}\n",
              "\n",
              "#sk-container-id-1 label.sk-toggleable__label-arrow:before {\n",
              "  /* Arrow on the left of the label */\n",
              "  content: \"▸\";\n",
              "  float: left;\n",
              "  margin-right: 0.25em;\n",
              "  color: var(--sklearn-color-icon);\n",
              "}\n",
              "\n",
              "#sk-container-id-1 label.sk-toggleable__label-arrow:hover:before {\n",
              "  color: var(--sklearn-color-text);\n",
              "}\n",
              "\n",
              "/* Toggleable content - dropdown */\n",
              "\n",
              "#sk-container-id-1 div.sk-toggleable__content {\n",
              "  max-height: 0;\n",
              "  max-width: 0;\n",
              "  overflow: hidden;\n",
              "  text-align: left;\n",
              "  /* unfitted */\n",
              "  background-color: var(--sklearn-color-unfitted-level-0);\n",
              "}\n",
              "\n",
              "#sk-container-id-1 div.sk-toggleable__content.fitted {\n",
              "  /* fitted */\n",
              "  background-color: var(--sklearn-color-fitted-level-0);\n",
              "}\n",
              "\n",
              "#sk-container-id-1 div.sk-toggleable__content pre {\n",
              "  margin: 0.2em;\n",
              "  border-radius: 0.25em;\n",
              "  color: var(--sklearn-color-text);\n",
              "  /* unfitted */\n",
              "  background-color: var(--sklearn-color-unfitted-level-0);\n",
              "}\n",
              "\n",
              "#sk-container-id-1 div.sk-toggleable__content.fitted pre {\n",
              "  /* unfitted */\n",
              "  background-color: var(--sklearn-color-fitted-level-0);\n",
              "}\n",
              "\n",
              "#sk-container-id-1 input.sk-toggleable__control:checked~div.sk-toggleable__content {\n",
              "  /* Expand drop-down */\n",
              "  max-height: 200px;\n",
              "  max-width: 100%;\n",
              "  overflow: auto;\n",
              "}\n",
              "\n",
              "#sk-container-id-1 input.sk-toggleable__control:checked~label.sk-toggleable__label-arrow:before {\n",
              "  content: \"▾\";\n",
              "}\n",
              "\n",
              "/* Pipeline/ColumnTransformer-specific style */\n",
              "\n",
              "#sk-container-id-1 div.sk-label input.sk-toggleable__control:checked~label.sk-toggleable__label {\n",
              "  color: var(--sklearn-color-text);\n",
              "  background-color: var(--sklearn-color-unfitted-level-2);\n",
              "}\n",
              "\n",
              "#sk-container-id-1 div.sk-label.fitted input.sk-toggleable__control:checked~label.sk-toggleable__label {\n",
              "  background-color: var(--sklearn-color-fitted-level-2);\n",
              "}\n",
              "\n",
              "/* Estimator-specific style */\n",
              "\n",
              "/* Colorize estimator box */\n",
              "#sk-container-id-1 div.sk-estimator input.sk-toggleable__control:checked~label.sk-toggleable__label {\n",
              "  /* unfitted */\n",
              "  background-color: var(--sklearn-color-unfitted-level-2);\n",
              "}\n",
              "\n",
              "#sk-container-id-1 div.sk-estimator.fitted input.sk-toggleable__control:checked~label.sk-toggleable__label {\n",
              "  /* fitted */\n",
              "  background-color: var(--sklearn-color-fitted-level-2);\n",
              "}\n",
              "\n",
              "#sk-container-id-1 div.sk-label label.sk-toggleable__label,\n",
              "#sk-container-id-1 div.sk-label label {\n",
              "  /* The background is the default theme color */\n",
              "  color: var(--sklearn-color-text-on-default-background);\n",
              "}\n",
              "\n",
              "/* On hover, darken the color of the background */\n",
              "#sk-container-id-1 div.sk-label:hover label.sk-toggleable__label {\n",
              "  color: var(--sklearn-color-text);\n",
              "  background-color: var(--sklearn-color-unfitted-level-2);\n",
              "}\n",
              "\n",
              "/* Label box, darken color on hover, fitted */\n",
              "#sk-container-id-1 div.sk-label.fitted:hover label.sk-toggleable__label.fitted {\n",
              "  color: var(--sklearn-color-text);\n",
              "  background-color: var(--sklearn-color-fitted-level-2);\n",
              "}\n",
              "\n",
              "/* Estimator label */\n",
              "\n",
              "#sk-container-id-1 div.sk-label label {\n",
              "  font-family: monospace;\n",
              "  font-weight: bold;\n",
              "  display: inline-block;\n",
              "  line-height: 1.2em;\n",
              "}\n",
              "\n",
              "#sk-container-id-1 div.sk-label-container {\n",
              "  text-align: center;\n",
              "}\n",
              "\n",
              "/* Estimator-specific */\n",
              "#sk-container-id-1 div.sk-estimator {\n",
              "  font-family: monospace;\n",
              "  border: 1px dotted var(--sklearn-color-border-box);\n",
              "  border-radius: 0.25em;\n",
              "  box-sizing: border-box;\n",
              "  margin-bottom: 0.5em;\n",
              "  /* unfitted */\n",
              "  background-color: var(--sklearn-color-unfitted-level-0);\n",
              "}\n",
              "\n",
              "#sk-container-id-1 div.sk-estimator.fitted {\n",
              "  /* fitted */\n",
              "  background-color: var(--sklearn-color-fitted-level-0);\n",
              "}\n",
              "\n",
              "/* on hover */\n",
              "#sk-container-id-1 div.sk-estimator:hover {\n",
              "  /* unfitted */\n",
              "  background-color: var(--sklearn-color-unfitted-level-2);\n",
              "}\n",
              "\n",
              "#sk-container-id-1 div.sk-estimator.fitted:hover {\n",
              "  /* fitted */\n",
              "  background-color: var(--sklearn-color-fitted-level-2);\n",
              "}\n",
              "\n",
              "/* Specification for estimator info (e.g. \"i\" and \"?\") */\n",
              "\n",
              "/* Common style for \"i\" and \"?\" */\n",
              "\n",
              ".sk-estimator-doc-link,\n",
              "a:link.sk-estimator-doc-link,\n",
              "a:visited.sk-estimator-doc-link {\n",
              "  float: right;\n",
              "  font-size: smaller;\n",
              "  line-height: 1em;\n",
              "  font-family: monospace;\n",
              "  background-color: var(--sklearn-color-background);\n",
              "  border-radius: 1em;\n",
              "  height: 1em;\n",
              "  width: 1em;\n",
              "  text-decoration: none !important;\n",
              "  margin-left: 0.5em;\n",
              "  text-align: center;\n",
              "  /* unfitted */\n",
              "  border: var(--sklearn-color-unfitted-level-1) 1pt solid;\n",
              "  color: var(--sklearn-color-unfitted-level-1);\n",
              "}\n",
              "\n",
              ".sk-estimator-doc-link.fitted,\n",
              "a:link.sk-estimator-doc-link.fitted,\n",
              "a:visited.sk-estimator-doc-link.fitted {\n",
              "  /* fitted */\n",
              "  border: var(--sklearn-color-fitted-level-1) 1pt solid;\n",
              "  color: var(--sklearn-color-fitted-level-1);\n",
              "}\n",
              "\n",
              "/* On hover */\n",
              "div.sk-estimator:hover .sk-estimator-doc-link:hover,\n",
              ".sk-estimator-doc-link:hover,\n",
              "div.sk-label-container:hover .sk-estimator-doc-link:hover,\n",
              ".sk-estimator-doc-link:hover {\n",
              "  /* unfitted */\n",
              "  background-color: var(--sklearn-color-unfitted-level-3);\n",
              "  color: var(--sklearn-color-background);\n",
              "  text-decoration: none;\n",
              "}\n",
              "\n",
              "div.sk-estimator.fitted:hover .sk-estimator-doc-link.fitted:hover,\n",
              ".sk-estimator-doc-link.fitted:hover,\n",
              "div.sk-label-container:hover .sk-estimator-doc-link.fitted:hover,\n",
              ".sk-estimator-doc-link.fitted:hover {\n",
              "  /* fitted */\n",
              "  background-color: var(--sklearn-color-fitted-level-3);\n",
              "  color: var(--sklearn-color-background);\n",
              "  text-decoration: none;\n",
              "}\n",
              "\n",
              "/* Span, style for the box shown on hovering the info icon */\n",
              ".sk-estimator-doc-link span {\n",
              "  display: none;\n",
              "  z-index: 9999;\n",
              "  position: relative;\n",
              "  font-weight: normal;\n",
              "  right: .2ex;\n",
              "  padding: .5ex;\n",
              "  margin: .5ex;\n",
              "  width: min-content;\n",
              "  min-width: 20ex;\n",
              "  max-width: 50ex;\n",
              "  color: var(--sklearn-color-text);\n",
              "  box-shadow: 2pt 2pt 4pt #999;\n",
              "  /* unfitted */\n",
              "  background: var(--sklearn-color-unfitted-level-0);\n",
              "  border: .5pt solid var(--sklearn-color-unfitted-level-3);\n",
              "}\n",
              "\n",
              ".sk-estimator-doc-link.fitted span {\n",
              "  /* fitted */\n",
              "  background: var(--sklearn-color-fitted-level-0);\n",
              "  border: var(--sklearn-color-fitted-level-3);\n",
              "}\n",
              "\n",
              ".sk-estimator-doc-link:hover span {\n",
              "  display: block;\n",
              "}\n",
              "\n",
              "/* \"?\"-specific style due to the `<a>` HTML tag */\n",
              "\n",
              "#sk-container-id-1 a.estimator_doc_link {\n",
              "  float: right;\n",
              "  font-size: 1rem;\n",
              "  line-height: 1em;\n",
              "  font-family: monospace;\n",
              "  background-color: var(--sklearn-color-background);\n",
              "  border-radius: 1rem;\n",
              "  height: 1rem;\n",
              "  width: 1rem;\n",
              "  text-decoration: none;\n",
              "  /* unfitted */\n",
              "  color: var(--sklearn-color-unfitted-level-1);\n",
              "  border: var(--sklearn-color-unfitted-level-1) 1pt solid;\n",
              "}\n",
              "\n",
              "#sk-container-id-1 a.estimator_doc_link.fitted {\n",
              "  /* fitted */\n",
              "  border: var(--sklearn-color-fitted-level-1) 1pt solid;\n",
              "  color: var(--sklearn-color-fitted-level-1);\n",
              "}\n",
              "\n",
              "/* On hover */\n",
              "#sk-container-id-1 a.estimator_doc_link:hover {\n",
              "  /* unfitted */\n",
              "  background-color: var(--sklearn-color-unfitted-level-3);\n",
              "  color: var(--sklearn-color-background);\n",
              "  text-decoration: none;\n",
              "}\n",
              "\n",
              "#sk-container-id-1 a.estimator_doc_link.fitted:hover {\n",
              "  /* fitted */\n",
              "  background-color: var(--sklearn-color-fitted-level-3);\n",
              "}\n",
              "</style><div id=\"sk-container-id-1\" class=\"sk-top-container\"><div class=\"sk-text-repr-fallback\"><pre>SMOTE(random_state=42)</pre><b>In a Jupyter environment, please rerun this cell to show the HTML representation or trust the notebook. <br />On GitHub, the HTML representation is unable to render, please try loading this page with nbviewer.org.</b></div><div class=\"sk-container\" hidden><div class=\"sk-item\"><div class=\"sk-estimator  sk-toggleable\"><input class=\"sk-toggleable__control sk-hidden--visually\" id=\"sk-estimator-id-1\" type=\"checkbox\" checked><label for=\"sk-estimator-id-1\" class=\"sk-toggleable__label  sk-toggleable__label-arrow\"><div><div>SMOTE</div></div><div><span class=\"sk-estimator-doc-link \">i<span>Not fitted</span></span></div></label><div class=\"sk-toggleable__content \"><pre>SMOTE(random_state=42)</pre></div> </div></div></div></div>"
            ],
            "text/plain": [
              "SMOTE(random_state=42)"
            ]
          },
          "execution_count": 39,
          "metadata": {},
          "output_type": "execute_result"
        }
      ],
      "source": [
        "smote"
      ]
    },
    {
      "cell_type": "markdown",
      "metadata": {
        "id": "G5Fv8Nk9D9dO"
      },
      "source": [
        "### 2.2) SPLIT FEATURES AND TARGET"
      ]
    },
    {
      "cell_type": "code",
      "execution_count": 40,
      "metadata": {
        "id": "EkNT6w4N5C4m"
      },
      "outputs": [],
      "source": [
        "X_train, y_train = train_df.drop(columns=[\"Depression\"]), train_df[\"Depression\"]"
      ]
    },
    {
      "cell_type": "code",
      "execution_count": 41,
      "metadata": {
        "id": "AuQC9JyQRd9I"
      },
      "outputs": [],
      "source": [
        "X_test = test_df.values"
      ]
    },
    {
      "cell_type": "code",
      "execution_count": 42,
      "metadata": {
        "colab": {
          "base_uri": "https://localhost:8080/",
          "height": 513
        },
        "id": "wyrZsuCD5ylZ",
        "outputId": "dad06a2e-e00e-47b0-8a57-067b34019605"
      },
      "outputs": [
        {
          "data": {
            "text/html": [
              "<div>\n",
              "<style scoped>\n",
              "    .dataframe tbody tr th:only-of-type {\n",
              "        vertical-align: middle;\n",
              "    }\n",
              "\n",
              "    .dataframe tbody tr th {\n",
              "        vertical-align: top;\n",
              "    }\n",
              "\n",
              "    .dataframe thead th {\n",
              "        text-align: right;\n",
              "    }\n",
              "</style>\n",
              "<table border=\"1\" class=\"dataframe\">\n",
              "  <thead>\n",
              "    <tr style=\"text-align: right;\">\n",
              "      <th></th>\n",
              "      <th>Gender</th>\n",
              "      <th>Age</th>\n",
              "      <th>City</th>\n",
              "      <th>Working Professional or Student</th>\n",
              "      <th>Profession</th>\n",
              "      <th>Academic Pressure</th>\n",
              "      <th>Work Pressure</th>\n",
              "      <th>CGPA</th>\n",
              "      <th>Study Satisfaction</th>\n",
              "      <th>Job Satisfaction</th>\n",
              "      <th>Sleep Duration</th>\n",
              "      <th>Dietary Habits</th>\n",
              "      <th>Degree</th>\n",
              "      <th>Have you ever had suicidal thoughts ?</th>\n",
              "      <th>Work/Study Hours</th>\n",
              "      <th>Financial Stress</th>\n",
              "      <th>Family History of Mental Illness</th>\n",
              "    </tr>\n",
              "  </thead>\n",
              "  <tbody>\n",
              "    <tr>\n",
              "      <th>0</th>\n",
              "      <td>0</td>\n",
              "      <td>0.738095</td>\n",
              "      <td>50</td>\n",
              "      <td>2</td>\n",
              "      <td>10</td>\n",
              "      <td>0.50</td>\n",
              "      <td>1.00</td>\n",
              "      <td>0.551308</td>\n",
              "      <td>0.50</td>\n",
              "      <td>0.25</td>\n",
              "      <td>29</td>\n",
              "      <td>7</td>\n",
              "      <td>33</td>\n",
              "      <td>0</td>\n",
              "      <td>0.083333</td>\n",
              "      <td>0.25</td>\n",
              "      <td>0</td>\n",
              "    </tr>\n",
              "    <tr>\n",
              "      <th>1</th>\n",
              "      <td>1</td>\n",
              "      <td>0.190476</td>\n",
              "      <td>94</td>\n",
              "      <td>2</td>\n",
              "      <td>55</td>\n",
              "      <td>0.50</td>\n",
              "      <td>0.75</td>\n",
              "      <td>0.551308</td>\n",
              "      <td>0.50</td>\n",
              "      <td>0.50</td>\n",
              "      <td>27</td>\n",
              "      <td>20</td>\n",
              "      <td>63</td>\n",
              "      <td>2</td>\n",
              "      <td>0.583333</td>\n",
              "      <td>0.50</td>\n",
              "      <td>0</td>\n",
              "    </tr>\n",
              "    <tr>\n",
              "      <th>2</th>\n",
              "      <td>1</td>\n",
              "      <td>0.357143</td>\n",
              "      <td>98</td>\n",
              "      <td>0</td>\n",
              "      <td>55</td>\n",
              "      <td>1.00</td>\n",
              "      <td>0.50</td>\n",
              "      <td>0.792757</td>\n",
              "      <td>0.25</td>\n",
              "      <td>0.50</td>\n",
              "      <td>15</td>\n",
              "      <td>7</td>\n",
              "      <td>21</td>\n",
              "      <td>2</td>\n",
              "      <td>0.250000</td>\n",
              "      <td>0.00</td>\n",
              "      <td>0</td>\n",
              "    </tr>\n",
              "    <tr>\n",
              "      <th>3</th>\n",
              "      <td>1</td>\n",
              "      <td>0.095238</td>\n",
              "      <td>64</td>\n",
              "      <td>2</td>\n",
              "      <td>55</td>\n",
              "      <td>0.50</td>\n",
              "      <td>1.00</td>\n",
              "      <td>0.551308</td>\n",
              "      <td>0.50</td>\n",
              "      <td>0.00</td>\n",
              "      <td>27</td>\n",
              "      <td>15</td>\n",
              "      <td>28</td>\n",
              "      <td>2</td>\n",
              "      <td>0.833333</td>\n",
              "      <td>0.00</td>\n",
              "      <td>2</td>\n",
              "    </tr>\n",
              "    <tr>\n",
              "      <th>4</th>\n",
              "      <td>0</td>\n",
              "      <td>0.285714</td>\n",
              "      <td>37</td>\n",
              "      <td>2</td>\n",
              "      <td>9</td>\n",
              "      <td>0.50</td>\n",
              "      <td>0.00</td>\n",
              "      <td>0.551308</td>\n",
              "      <td>0.50</td>\n",
              "      <td>0.00</td>\n",
              "      <td>15</td>\n",
              "      <td>20</td>\n",
              "      <td>28</td>\n",
              "      <td>2</td>\n",
              "      <td>0.750000</td>\n",
              "      <td>0.75</td>\n",
              "      <td>2</td>\n",
              "    </tr>\n",
              "    <tr>\n",
              "      <th>...</th>\n",
              "      <td>...</td>\n",
              "      <td>...</td>\n",
              "      <td>...</td>\n",
              "      <td>...</td>\n",
              "      <td>...</td>\n",
              "      <td>...</td>\n",
              "      <td>...</td>\n",
              "      <td>...</td>\n",
              "      <td>...</td>\n",
              "      <td>...</td>\n",
              "      <td>...</td>\n",
              "      <td>...</td>\n",
              "      <td>...</td>\n",
              "      <td>...</td>\n",
              "      <td>...</td>\n",
              "      <td>...</td>\n",
              "      <td>...</td>\n",
              "    </tr>\n",
              "    <tr>\n",
              "      <th>140695</th>\n",
              "      <td>0</td>\n",
              "      <td>0.000000</td>\n",
              "      <td>4</td>\n",
              "      <td>2</td>\n",
              "      <td>55</td>\n",
              "      <td>0.50</td>\n",
              "      <td>1.00</td>\n",
              "      <td>0.551308</td>\n",
              "      <td>0.50</td>\n",
              "      <td>0.75</td>\n",
              "      <td>15</td>\n",
              "      <td>20</td>\n",
              "      <td>45</td>\n",
              "      <td>0</td>\n",
              "      <td>0.166667</td>\n",
              "      <td>0.75</td>\n",
              "      <td>2</td>\n",
              "    </tr>\n",
              "    <tr>\n",
              "      <th>140696</th>\n",
              "      <td>0</td>\n",
              "      <td>0.547619</td>\n",
              "      <td>26</td>\n",
              "      <td>2</td>\n",
              "      <td>15</td>\n",
              "      <td>0.50</td>\n",
              "      <td>1.00</td>\n",
              "      <td>0.551308</td>\n",
              "      <td>0.50</td>\n",
              "      <td>0.75</td>\n",
              "      <td>19</td>\n",
              "      <td>15</td>\n",
              "      <td>24</td>\n",
              "      <td>2</td>\n",
              "      <td>0.500000</td>\n",
              "      <td>1.00</td>\n",
              "      <td>2</td>\n",
              "    </tr>\n",
              "    <tr>\n",
              "      <th>140697</th>\n",
              "      <td>0</td>\n",
              "      <td>0.142857</td>\n",
              "      <td>44</td>\n",
              "      <td>2</td>\n",
              "      <td>38</td>\n",
              "      <td>0.50</td>\n",
              "      <td>0.50</td>\n",
              "      <td>0.551308</td>\n",
              "      <td>0.50</td>\n",
              "      <td>0.00</td>\n",
              "      <td>29</td>\n",
              "      <td>15</td>\n",
              "      <td>19</td>\n",
              "      <td>0</td>\n",
              "      <td>0.333333</td>\n",
              "      <td>0.75</td>\n",
              "      <td>0</td>\n",
              "    </tr>\n",
              "    <tr>\n",
              "      <th>140698</th>\n",
              "      <td>0</td>\n",
              "      <td>0.738095</td>\n",
              "      <td>84</td>\n",
              "      <td>2</td>\n",
              "      <td>47</td>\n",
              "      <td>0.50</td>\n",
              "      <td>1.00</td>\n",
              "      <td>0.551308</td>\n",
              "      <td>0.50</td>\n",
              "      <td>0.25</td>\n",
              "      <td>15</td>\n",
              "      <td>15</td>\n",
              "      <td>84</td>\n",
              "      <td>2</td>\n",
              "      <td>0.833333</td>\n",
              "      <td>0.00</td>\n",
              "      <td>0</td>\n",
              "    </tr>\n",
              "    <tr>\n",
              "      <th>140699</th>\n",
              "      <td>1</td>\n",
              "      <td>0.214286</td>\n",
              "      <td>72</td>\n",
              "      <td>0</td>\n",
              "      <td>55</td>\n",
              "      <td>0.75</td>\n",
              "      <td>0.50</td>\n",
              "      <td>0.847082</td>\n",
              "      <td>0.00</td>\n",
              "      <td>0.50</td>\n",
              "      <td>27</td>\n",
              "      <td>7</td>\n",
              "      <td>29</td>\n",
              "      <td>2</td>\n",
              "      <td>0.166667</td>\n",
              "      <td>0.50</td>\n",
              "      <td>2</td>\n",
              "    </tr>\n",
              "  </tbody>\n",
              "</table>\n",
              "<p>140700 rows × 17 columns</p>\n",
              "</div>"
            ],
            "text/plain": [
              "        Gender       Age  City  Working Professional or Student  Profession  \\\n",
              "0            0  0.738095    50                                2          10   \n",
              "1            1  0.190476    94                                2          55   \n",
              "2            1  0.357143    98                                0          55   \n",
              "3            1  0.095238    64                                2          55   \n",
              "4            0  0.285714    37                                2           9   \n",
              "...        ...       ...   ...                              ...         ...   \n",
              "140695       0  0.000000     4                                2          55   \n",
              "140696       0  0.547619    26                                2          15   \n",
              "140697       0  0.142857    44                                2          38   \n",
              "140698       0  0.738095    84                                2          47   \n",
              "140699       1  0.214286    72                                0          55   \n",
              "\n",
              "        Academic Pressure  Work Pressure      CGPA  Study Satisfaction  \\\n",
              "0                    0.50           1.00  0.551308                0.50   \n",
              "1                    0.50           0.75  0.551308                0.50   \n",
              "2                    1.00           0.50  0.792757                0.25   \n",
              "3                    0.50           1.00  0.551308                0.50   \n",
              "4                    0.50           0.00  0.551308                0.50   \n",
              "...                   ...            ...       ...                 ...   \n",
              "140695               0.50           1.00  0.551308                0.50   \n",
              "140696               0.50           1.00  0.551308                0.50   \n",
              "140697               0.50           0.50  0.551308                0.50   \n",
              "140698               0.50           1.00  0.551308                0.50   \n",
              "140699               0.75           0.50  0.847082                0.00   \n",
              "\n",
              "        Job Satisfaction  Sleep Duration  Dietary Habits  Degree  \\\n",
              "0                   0.25              29               7      33   \n",
              "1                   0.50              27              20      63   \n",
              "2                   0.50              15               7      21   \n",
              "3                   0.00              27              15      28   \n",
              "4                   0.00              15              20      28   \n",
              "...                  ...             ...             ...     ...   \n",
              "140695              0.75              15              20      45   \n",
              "140696              0.75              19              15      24   \n",
              "140697              0.00              29              15      19   \n",
              "140698              0.25              15              15      84   \n",
              "140699              0.50              27               7      29   \n",
              "\n",
              "        Have you ever had suicidal thoughts ?  Work/Study Hours  \\\n",
              "0                                           0          0.083333   \n",
              "1                                           2          0.583333   \n",
              "2                                           2          0.250000   \n",
              "3                                           2          0.833333   \n",
              "4                                           2          0.750000   \n",
              "...                                       ...               ...   \n",
              "140695                                      0          0.166667   \n",
              "140696                                      2          0.500000   \n",
              "140697                                      0          0.333333   \n",
              "140698                                      2          0.833333   \n",
              "140699                                      2          0.166667   \n",
              "\n",
              "        Financial Stress  Family History of Mental Illness  \n",
              "0                   0.25                                 0  \n",
              "1                   0.50                                 0  \n",
              "2                   0.00                                 0  \n",
              "3                   0.00                                 2  \n",
              "4                   0.75                                 2  \n",
              "...                  ...                               ...  \n",
              "140695              0.75                                 2  \n",
              "140696              1.00                                 2  \n",
              "140697              0.75                                 0  \n",
              "140698              0.00                                 0  \n",
              "140699              0.50                                 2  \n",
              "\n",
              "[140700 rows x 17 columns]"
            ]
          },
          "execution_count": 42,
          "metadata": {},
          "output_type": "execute_result"
        }
      ],
      "source": [
        "X_train"
      ]
    },
    {
      "cell_type": "code",
      "execution_count": 43,
      "metadata": {
        "colab": {
          "base_uri": "https://localhost:8080/",
          "height": 458
        },
        "id": "vxwCj7lG5z6i",
        "outputId": "63881eab-52d6-4575-c711-5bdcfc95a995"
      },
      "outputs": [
        {
          "data": {
            "text/plain": [
              "0         0\n",
              "1         1\n",
              "2         1\n",
              "3         1\n",
              "4         0\n",
              "         ..\n",
              "140695    1\n",
              "140696    0\n",
              "140697    0\n",
              "140698    0\n",
              "140699    1\n",
              "Name: Depression, Length: 140700, dtype: int64"
            ]
          },
          "execution_count": 43,
          "metadata": {},
          "output_type": "execute_result"
        }
      ],
      "source": [
        "y_train"
      ]
    },
    {
      "cell_type": "code",
      "execution_count": 44,
      "metadata": {
        "id": "cb4JgUiu52s-"
      },
      "outputs": [],
      "source": [
        "X_resampled, y_resampled = smote.fit_resample(X_train, y_train)"
      ]
    },
    {
      "cell_type": "code",
      "execution_count": 45,
      "metadata": {
        "colab": {
          "base_uri": "https://localhost:8080/",
          "height": 513
        },
        "id": "QBzP1gbV6Mnd",
        "outputId": "86f13dc2-f0b5-4272-afff-9fa62efdb727"
      },
      "outputs": [
        {
          "data": {
            "text/html": [
              "<div>\n",
              "<style scoped>\n",
              "    .dataframe tbody tr th:only-of-type {\n",
              "        vertical-align: middle;\n",
              "    }\n",
              "\n",
              "    .dataframe tbody tr th {\n",
              "        vertical-align: top;\n",
              "    }\n",
              "\n",
              "    .dataframe thead th {\n",
              "        text-align: right;\n",
              "    }\n",
              "</style>\n",
              "<table border=\"1\" class=\"dataframe\">\n",
              "  <thead>\n",
              "    <tr style=\"text-align: right;\">\n",
              "      <th></th>\n",
              "      <th>Gender</th>\n",
              "      <th>Age</th>\n",
              "      <th>City</th>\n",
              "      <th>Working Professional or Student</th>\n",
              "      <th>Profession</th>\n",
              "      <th>Academic Pressure</th>\n",
              "      <th>Work Pressure</th>\n",
              "      <th>CGPA</th>\n",
              "      <th>Study Satisfaction</th>\n",
              "      <th>Job Satisfaction</th>\n",
              "      <th>Sleep Duration</th>\n",
              "      <th>Dietary Habits</th>\n",
              "      <th>Degree</th>\n",
              "      <th>Have you ever had suicidal thoughts ?</th>\n",
              "      <th>Work/Study Hours</th>\n",
              "      <th>Financial Stress</th>\n",
              "      <th>Family History of Mental Illness</th>\n",
              "    </tr>\n",
              "  </thead>\n",
              "  <tbody>\n",
              "    <tr>\n",
              "      <th>0</th>\n",
              "      <td>0</td>\n",
              "      <td>0.738095</td>\n",
              "      <td>50</td>\n",
              "      <td>2</td>\n",
              "      <td>10</td>\n",
              "      <td>0.500000</td>\n",
              "      <td>1.000000</td>\n",
              "      <td>0.551308</td>\n",
              "      <td>0.500000</td>\n",
              "      <td>0.25</td>\n",
              "      <td>29</td>\n",
              "      <td>7</td>\n",
              "      <td>33</td>\n",
              "      <td>0</td>\n",
              "      <td>0.083333</td>\n",
              "      <td>0.250000</td>\n",
              "      <td>0</td>\n",
              "    </tr>\n",
              "    <tr>\n",
              "      <th>1</th>\n",
              "      <td>1</td>\n",
              "      <td>0.190476</td>\n",
              "      <td>94</td>\n",
              "      <td>2</td>\n",
              "      <td>55</td>\n",
              "      <td>0.500000</td>\n",
              "      <td>0.750000</td>\n",
              "      <td>0.551308</td>\n",
              "      <td>0.500000</td>\n",
              "      <td>0.50</td>\n",
              "      <td>27</td>\n",
              "      <td>20</td>\n",
              "      <td>63</td>\n",
              "      <td>2</td>\n",
              "      <td>0.583333</td>\n",
              "      <td>0.500000</td>\n",
              "      <td>0</td>\n",
              "    </tr>\n",
              "    <tr>\n",
              "      <th>2</th>\n",
              "      <td>1</td>\n",
              "      <td>0.357143</td>\n",
              "      <td>98</td>\n",
              "      <td>0</td>\n",
              "      <td>55</td>\n",
              "      <td>1.000000</td>\n",
              "      <td>0.500000</td>\n",
              "      <td>0.792757</td>\n",
              "      <td>0.250000</td>\n",
              "      <td>0.50</td>\n",
              "      <td>15</td>\n",
              "      <td>7</td>\n",
              "      <td>21</td>\n",
              "      <td>2</td>\n",
              "      <td>0.250000</td>\n",
              "      <td>0.000000</td>\n",
              "      <td>0</td>\n",
              "    </tr>\n",
              "    <tr>\n",
              "      <th>3</th>\n",
              "      <td>1</td>\n",
              "      <td>0.095238</td>\n",
              "      <td>64</td>\n",
              "      <td>2</td>\n",
              "      <td>55</td>\n",
              "      <td>0.500000</td>\n",
              "      <td>1.000000</td>\n",
              "      <td>0.551308</td>\n",
              "      <td>0.500000</td>\n",
              "      <td>0.00</td>\n",
              "      <td>27</td>\n",
              "      <td>15</td>\n",
              "      <td>28</td>\n",
              "      <td>2</td>\n",
              "      <td>0.833333</td>\n",
              "      <td>0.000000</td>\n",
              "      <td>2</td>\n",
              "    </tr>\n",
              "    <tr>\n",
              "      <th>4</th>\n",
              "      <td>0</td>\n",
              "      <td>0.285714</td>\n",
              "      <td>37</td>\n",
              "      <td>2</td>\n",
              "      <td>9</td>\n",
              "      <td>0.500000</td>\n",
              "      <td>0.000000</td>\n",
              "      <td>0.551308</td>\n",
              "      <td>0.500000</td>\n",
              "      <td>0.00</td>\n",
              "      <td>15</td>\n",
              "      <td>20</td>\n",
              "      <td>28</td>\n",
              "      <td>2</td>\n",
              "      <td>0.750000</td>\n",
              "      <td>0.750000</td>\n",
              "      <td>2</td>\n",
              "    </tr>\n",
              "    <tr>\n",
              "      <th>...</th>\n",
              "      <td>...</td>\n",
              "      <td>...</td>\n",
              "      <td>...</td>\n",
              "      <td>...</td>\n",
              "      <td>...</td>\n",
              "      <td>...</td>\n",
              "      <td>...</td>\n",
              "      <td>...</td>\n",
              "      <td>...</td>\n",
              "      <td>...</td>\n",
              "      <td>...</td>\n",
              "      <td>...</td>\n",
              "      <td>...</td>\n",
              "      <td>...</td>\n",
              "      <td>...</td>\n",
              "      <td>...</td>\n",
              "      <td>...</td>\n",
              "    </tr>\n",
              "    <tr>\n",
              "      <th>230261</th>\n",
              "      <td>0</td>\n",
              "      <td>0.033109</td>\n",
              "      <td>22</td>\n",
              "      <td>0</td>\n",
              "      <td>55</td>\n",
              "      <td>1.000000</td>\n",
              "      <td>0.500000</td>\n",
              "      <td>0.665968</td>\n",
              "      <td>0.695292</td>\n",
              "      <td>0.50</td>\n",
              "      <td>27</td>\n",
              "      <td>7</td>\n",
              "      <td>45</td>\n",
              "      <td>2</td>\n",
              "      <td>0.949215</td>\n",
              "      <td>0.173823</td>\n",
              "      <td>0</td>\n",
              "    </tr>\n",
              "    <tr>\n",
              "      <th>230262</th>\n",
              "      <td>0</td>\n",
              "      <td>0.280708</td>\n",
              "      <td>49</td>\n",
              "      <td>0</td>\n",
              "      <td>55</td>\n",
              "      <td>0.716382</td>\n",
              "      <td>0.500000</td>\n",
              "      <td>0.656771</td>\n",
              "      <td>0.317237</td>\n",
              "      <td>0.50</td>\n",
              "      <td>27</td>\n",
              "      <td>20</td>\n",
              "      <td>80</td>\n",
              "      <td>0</td>\n",
              "      <td>0.855746</td>\n",
              "      <td>1.000000</td>\n",
              "      <td>2</td>\n",
              "    </tr>\n",
              "    <tr>\n",
              "      <th>230263</th>\n",
              "      <td>0</td>\n",
              "      <td>0.044901</td>\n",
              "      <td>85</td>\n",
              "      <td>0</td>\n",
              "      <td>55</td>\n",
              "      <td>0.764272</td>\n",
              "      <td>0.500000</td>\n",
              "      <td>0.409184</td>\n",
              "      <td>0.000000</td>\n",
              "      <td>0.50</td>\n",
              "      <td>15</td>\n",
              "      <td>15</td>\n",
              "      <td>45</td>\n",
              "      <td>2</td>\n",
              "      <td>0.578576</td>\n",
              "      <td>0.750000</td>\n",
              "      <td>2</td>\n",
              "    </tr>\n",
              "    <tr>\n",
              "      <th>230264</th>\n",
              "      <td>0</td>\n",
              "      <td>0.036876</td>\n",
              "      <td>92</td>\n",
              "      <td>2</td>\n",
              "      <td>55</td>\n",
              "      <td>0.500000</td>\n",
              "      <td>0.528682</td>\n",
              "      <td>0.551308</td>\n",
              "      <td>0.500000</td>\n",
              "      <td>0.75</td>\n",
              "      <td>19</td>\n",
              "      <td>7</td>\n",
              "      <td>45</td>\n",
              "      <td>2</td>\n",
              "      <td>0.759561</td>\n",
              "      <td>0.721318</td>\n",
              "      <td>0</td>\n",
              "    </tr>\n",
              "    <tr>\n",
              "      <th>230265</th>\n",
              "      <td>1</td>\n",
              "      <td>0.233170</td>\n",
              "      <td>85</td>\n",
              "      <td>0</td>\n",
              "      <td>55</td>\n",
              "      <td>1.000000</td>\n",
              "      <td>0.500000</td>\n",
              "      <td>0.554982</td>\n",
              "      <td>0.750000</td>\n",
              "      <td>0.50</td>\n",
              "      <td>28</td>\n",
              "      <td>7</td>\n",
              "      <td>29</td>\n",
              "      <td>0</td>\n",
              "      <td>0.091952</td>\n",
              "      <td>0.512928</td>\n",
              "      <td>2</td>\n",
              "    </tr>\n",
              "  </tbody>\n",
              "</table>\n",
              "<p>230266 rows × 17 columns</p>\n",
              "</div>"
            ],
            "text/plain": [
              "        Gender       Age  City  Working Professional or Student  Profession  \\\n",
              "0            0  0.738095    50                                2          10   \n",
              "1            1  0.190476    94                                2          55   \n",
              "2            1  0.357143    98                                0          55   \n",
              "3            1  0.095238    64                                2          55   \n",
              "4            0  0.285714    37                                2           9   \n",
              "...        ...       ...   ...                              ...         ...   \n",
              "230261       0  0.033109    22                                0          55   \n",
              "230262       0  0.280708    49                                0          55   \n",
              "230263       0  0.044901    85                                0          55   \n",
              "230264       0  0.036876    92                                2          55   \n",
              "230265       1  0.233170    85                                0          55   \n",
              "\n",
              "        Academic Pressure  Work Pressure      CGPA  Study Satisfaction  \\\n",
              "0                0.500000       1.000000  0.551308            0.500000   \n",
              "1                0.500000       0.750000  0.551308            0.500000   \n",
              "2                1.000000       0.500000  0.792757            0.250000   \n",
              "3                0.500000       1.000000  0.551308            0.500000   \n",
              "4                0.500000       0.000000  0.551308            0.500000   \n",
              "...                   ...            ...       ...                 ...   \n",
              "230261           1.000000       0.500000  0.665968            0.695292   \n",
              "230262           0.716382       0.500000  0.656771            0.317237   \n",
              "230263           0.764272       0.500000  0.409184            0.000000   \n",
              "230264           0.500000       0.528682  0.551308            0.500000   \n",
              "230265           1.000000       0.500000  0.554982            0.750000   \n",
              "\n",
              "        Job Satisfaction  Sleep Duration  Dietary Habits  Degree  \\\n",
              "0                   0.25              29               7      33   \n",
              "1                   0.50              27              20      63   \n",
              "2                   0.50              15               7      21   \n",
              "3                   0.00              27              15      28   \n",
              "4                   0.00              15              20      28   \n",
              "...                  ...             ...             ...     ...   \n",
              "230261              0.50              27               7      45   \n",
              "230262              0.50              27              20      80   \n",
              "230263              0.50              15              15      45   \n",
              "230264              0.75              19               7      45   \n",
              "230265              0.50              28               7      29   \n",
              "\n",
              "        Have you ever had suicidal thoughts ?  Work/Study Hours  \\\n",
              "0                                           0          0.083333   \n",
              "1                                           2          0.583333   \n",
              "2                                           2          0.250000   \n",
              "3                                           2          0.833333   \n",
              "4                                           2          0.750000   \n",
              "...                                       ...               ...   \n",
              "230261                                      2          0.949215   \n",
              "230262                                      0          0.855746   \n",
              "230263                                      2          0.578576   \n",
              "230264                                      2          0.759561   \n",
              "230265                                      0          0.091952   \n",
              "\n",
              "        Financial Stress  Family History of Mental Illness  \n",
              "0               0.250000                                 0  \n",
              "1               0.500000                                 0  \n",
              "2               0.000000                                 0  \n",
              "3               0.000000                                 2  \n",
              "4               0.750000                                 2  \n",
              "...                  ...                               ...  \n",
              "230261          0.173823                                 0  \n",
              "230262          1.000000                                 2  \n",
              "230263          0.750000                                 2  \n",
              "230264          0.721318                                 0  \n",
              "230265          0.512928                                 2  \n",
              "\n",
              "[230266 rows x 17 columns]"
            ]
          },
          "execution_count": 45,
          "metadata": {},
          "output_type": "execute_result"
        }
      ],
      "source": [
        "X_resampled"
      ]
    },
    {
      "cell_type": "code",
      "execution_count": 46,
      "metadata": {
        "colab": {
          "base_uri": "https://localhost:8080/",
          "height": 458
        },
        "id": "mcioHGc76EkT",
        "outputId": "b5dc8778-58dc-4df6-9798-f095cfe6b478"
      },
      "outputs": [
        {
          "data": {
            "text/plain": [
              "0         0\n",
              "1         1\n",
              "2         1\n",
              "3         1\n",
              "4         0\n",
              "         ..\n",
              "230261    1\n",
              "230262    1\n",
              "230263    1\n",
              "230264    1\n",
              "230265    1\n",
              "Name: Depression, Length: 230266, dtype: int64"
            ]
          },
          "execution_count": 46,
          "metadata": {},
          "output_type": "execute_result"
        }
      ],
      "source": [
        "y_resampled"
      ]
    },
    {
      "cell_type": "code",
      "execution_count": 47,
      "metadata": {
        "id": "d2hvlXQKELMA"
      },
      "outputs": [],
      "source": [
        "train_df_resampled = pd.DataFrame(X_resampled, columns=X_train.columns)\n",
        "train_df_resampled[\"Depression\"] = y_resampled"
      ]
    },
    {
      "cell_type": "code",
      "execution_count": 48,
      "metadata": {
        "colab": {
          "base_uri": "https://localhost:8080/",
          "height": 513
        },
        "id": "eu1gq1_UENZl",
        "outputId": "d561dcc6-9e5d-4b5e-ec44-48e1fb10cc22"
      },
      "outputs": [
        {
          "data": {
            "text/html": [
              "<div>\n",
              "<style scoped>\n",
              "    .dataframe tbody tr th:only-of-type {\n",
              "        vertical-align: middle;\n",
              "    }\n",
              "\n",
              "    .dataframe tbody tr th {\n",
              "        vertical-align: top;\n",
              "    }\n",
              "\n",
              "    .dataframe thead th {\n",
              "        text-align: right;\n",
              "    }\n",
              "</style>\n",
              "<table border=\"1\" class=\"dataframe\">\n",
              "  <thead>\n",
              "    <tr style=\"text-align: right;\">\n",
              "      <th></th>\n",
              "      <th>Gender</th>\n",
              "      <th>Age</th>\n",
              "      <th>City</th>\n",
              "      <th>Working Professional or Student</th>\n",
              "      <th>Profession</th>\n",
              "      <th>Academic Pressure</th>\n",
              "      <th>Work Pressure</th>\n",
              "      <th>CGPA</th>\n",
              "      <th>Study Satisfaction</th>\n",
              "      <th>Job Satisfaction</th>\n",
              "      <th>Sleep Duration</th>\n",
              "      <th>Dietary Habits</th>\n",
              "      <th>Degree</th>\n",
              "      <th>Have you ever had suicidal thoughts ?</th>\n",
              "      <th>Work/Study Hours</th>\n",
              "      <th>Financial Stress</th>\n",
              "      <th>Family History of Mental Illness</th>\n",
              "      <th>Depression</th>\n",
              "    </tr>\n",
              "  </thead>\n",
              "  <tbody>\n",
              "    <tr>\n",
              "      <th>0</th>\n",
              "      <td>0</td>\n",
              "      <td>0.738095</td>\n",
              "      <td>50</td>\n",
              "      <td>2</td>\n",
              "      <td>10</td>\n",
              "      <td>0.500000</td>\n",
              "      <td>1.000000</td>\n",
              "      <td>0.551308</td>\n",
              "      <td>0.500000</td>\n",
              "      <td>0.25</td>\n",
              "      <td>29</td>\n",
              "      <td>7</td>\n",
              "      <td>33</td>\n",
              "      <td>0</td>\n",
              "      <td>0.083333</td>\n",
              "      <td>0.250000</td>\n",
              "      <td>0</td>\n",
              "      <td>0</td>\n",
              "    </tr>\n",
              "    <tr>\n",
              "      <th>1</th>\n",
              "      <td>1</td>\n",
              "      <td>0.190476</td>\n",
              "      <td>94</td>\n",
              "      <td>2</td>\n",
              "      <td>55</td>\n",
              "      <td>0.500000</td>\n",
              "      <td>0.750000</td>\n",
              "      <td>0.551308</td>\n",
              "      <td>0.500000</td>\n",
              "      <td>0.50</td>\n",
              "      <td>27</td>\n",
              "      <td>20</td>\n",
              "      <td>63</td>\n",
              "      <td>2</td>\n",
              "      <td>0.583333</td>\n",
              "      <td>0.500000</td>\n",
              "      <td>0</td>\n",
              "      <td>1</td>\n",
              "    </tr>\n",
              "    <tr>\n",
              "      <th>2</th>\n",
              "      <td>1</td>\n",
              "      <td>0.357143</td>\n",
              "      <td>98</td>\n",
              "      <td>0</td>\n",
              "      <td>55</td>\n",
              "      <td>1.000000</td>\n",
              "      <td>0.500000</td>\n",
              "      <td>0.792757</td>\n",
              "      <td>0.250000</td>\n",
              "      <td>0.50</td>\n",
              "      <td>15</td>\n",
              "      <td>7</td>\n",
              "      <td>21</td>\n",
              "      <td>2</td>\n",
              "      <td>0.250000</td>\n",
              "      <td>0.000000</td>\n",
              "      <td>0</td>\n",
              "      <td>1</td>\n",
              "    </tr>\n",
              "    <tr>\n",
              "      <th>3</th>\n",
              "      <td>1</td>\n",
              "      <td>0.095238</td>\n",
              "      <td>64</td>\n",
              "      <td>2</td>\n",
              "      <td>55</td>\n",
              "      <td>0.500000</td>\n",
              "      <td>1.000000</td>\n",
              "      <td>0.551308</td>\n",
              "      <td>0.500000</td>\n",
              "      <td>0.00</td>\n",
              "      <td>27</td>\n",
              "      <td>15</td>\n",
              "      <td>28</td>\n",
              "      <td>2</td>\n",
              "      <td>0.833333</td>\n",
              "      <td>0.000000</td>\n",
              "      <td>2</td>\n",
              "      <td>1</td>\n",
              "    </tr>\n",
              "    <tr>\n",
              "      <th>4</th>\n",
              "      <td>0</td>\n",
              "      <td>0.285714</td>\n",
              "      <td>37</td>\n",
              "      <td>2</td>\n",
              "      <td>9</td>\n",
              "      <td>0.500000</td>\n",
              "      <td>0.000000</td>\n",
              "      <td>0.551308</td>\n",
              "      <td>0.500000</td>\n",
              "      <td>0.00</td>\n",
              "      <td>15</td>\n",
              "      <td>20</td>\n",
              "      <td>28</td>\n",
              "      <td>2</td>\n",
              "      <td>0.750000</td>\n",
              "      <td>0.750000</td>\n",
              "      <td>2</td>\n",
              "      <td>0</td>\n",
              "    </tr>\n",
              "    <tr>\n",
              "      <th>...</th>\n",
              "      <td>...</td>\n",
              "      <td>...</td>\n",
              "      <td>...</td>\n",
              "      <td>...</td>\n",
              "      <td>...</td>\n",
              "      <td>...</td>\n",
              "      <td>...</td>\n",
              "      <td>...</td>\n",
              "      <td>...</td>\n",
              "      <td>...</td>\n",
              "      <td>...</td>\n",
              "      <td>...</td>\n",
              "      <td>...</td>\n",
              "      <td>...</td>\n",
              "      <td>...</td>\n",
              "      <td>...</td>\n",
              "      <td>...</td>\n",
              "      <td>...</td>\n",
              "    </tr>\n",
              "    <tr>\n",
              "      <th>230261</th>\n",
              "      <td>0</td>\n",
              "      <td>0.033109</td>\n",
              "      <td>22</td>\n",
              "      <td>0</td>\n",
              "      <td>55</td>\n",
              "      <td>1.000000</td>\n",
              "      <td>0.500000</td>\n",
              "      <td>0.665968</td>\n",
              "      <td>0.695292</td>\n",
              "      <td>0.50</td>\n",
              "      <td>27</td>\n",
              "      <td>7</td>\n",
              "      <td>45</td>\n",
              "      <td>2</td>\n",
              "      <td>0.949215</td>\n",
              "      <td>0.173823</td>\n",
              "      <td>0</td>\n",
              "      <td>1</td>\n",
              "    </tr>\n",
              "    <tr>\n",
              "      <th>230262</th>\n",
              "      <td>0</td>\n",
              "      <td>0.280708</td>\n",
              "      <td>49</td>\n",
              "      <td>0</td>\n",
              "      <td>55</td>\n",
              "      <td>0.716382</td>\n",
              "      <td>0.500000</td>\n",
              "      <td>0.656771</td>\n",
              "      <td>0.317237</td>\n",
              "      <td>0.50</td>\n",
              "      <td>27</td>\n",
              "      <td>20</td>\n",
              "      <td>80</td>\n",
              "      <td>0</td>\n",
              "      <td>0.855746</td>\n",
              "      <td>1.000000</td>\n",
              "      <td>2</td>\n",
              "      <td>1</td>\n",
              "    </tr>\n",
              "    <tr>\n",
              "      <th>230263</th>\n",
              "      <td>0</td>\n",
              "      <td>0.044901</td>\n",
              "      <td>85</td>\n",
              "      <td>0</td>\n",
              "      <td>55</td>\n",
              "      <td>0.764272</td>\n",
              "      <td>0.500000</td>\n",
              "      <td>0.409184</td>\n",
              "      <td>0.000000</td>\n",
              "      <td>0.50</td>\n",
              "      <td>15</td>\n",
              "      <td>15</td>\n",
              "      <td>45</td>\n",
              "      <td>2</td>\n",
              "      <td>0.578576</td>\n",
              "      <td>0.750000</td>\n",
              "      <td>2</td>\n",
              "      <td>1</td>\n",
              "    </tr>\n",
              "    <tr>\n",
              "      <th>230264</th>\n",
              "      <td>0</td>\n",
              "      <td>0.036876</td>\n",
              "      <td>92</td>\n",
              "      <td>2</td>\n",
              "      <td>55</td>\n",
              "      <td>0.500000</td>\n",
              "      <td>0.528682</td>\n",
              "      <td>0.551308</td>\n",
              "      <td>0.500000</td>\n",
              "      <td>0.75</td>\n",
              "      <td>19</td>\n",
              "      <td>7</td>\n",
              "      <td>45</td>\n",
              "      <td>2</td>\n",
              "      <td>0.759561</td>\n",
              "      <td>0.721318</td>\n",
              "      <td>0</td>\n",
              "      <td>1</td>\n",
              "    </tr>\n",
              "    <tr>\n",
              "      <th>230265</th>\n",
              "      <td>1</td>\n",
              "      <td>0.233170</td>\n",
              "      <td>85</td>\n",
              "      <td>0</td>\n",
              "      <td>55</td>\n",
              "      <td>1.000000</td>\n",
              "      <td>0.500000</td>\n",
              "      <td>0.554982</td>\n",
              "      <td>0.750000</td>\n",
              "      <td>0.50</td>\n",
              "      <td>28</td>\n",
              "      <td>7</td>\n",
              "      <td>29</td>\n",
              "      <td>0</td>\n",
              "      <td>0.091952</td>\n",
              "      <td>0.512928</td>\n",
              "      <td>2</td>\n",
              "      <td>1</td>\n",
              "    </tr>\n",
              "  </tbody>\n",
              "</table>\n",
              "<p>230266 rows × 18 columns</p>\n",
              "</div>"
            ],
            "text/plain": [
              "        Gender       Age  City  Working Professional or Student  Profession  \\\n",
              "0            0  0.738095    50                                2          10   \n",
              "1            1  0.190476    94                                2          55   \n",
              "2            1  0.357143    98                                0          55   \n",
              "3            1  0.095238    64                                2          55   \n",
              "4            0  0.285714    37                                2           9   \n",
              "...        ...       ...   ...                              ...         ...   \n",
              "230261       0  0.033109    22                                0          55   \n",
              "230262       0  0.280708    49                                0          55   \n",
              "230263       0  0.044901    85                                0          55   \n",
              "230264       0  0.036876    92                                2          55   \n",
              "230265       1  0.233170    85                                0          55   \n",
              "\n",
              "        Academic Pressure  Work Pressure      CGPA  Study Satisfaction  \\\n",
              "0                0.500000       1.000000  0.551308            0.500000   \n",
              "1                0.500000       0.750000  0.551308            0.500000   \n",
              "2                1.000000       0.500000  0.792757            0.250000   \n",
              "3                0.500000       1.000000  0.551308            0.500000   \n",
              "4                0.500000       0.000000  0.551308            0.500000   \n",
              "...                   ...            ...       ...                 ...   \n",
              "230261           1.000000       0.500000  0.665968            0.695292   \n",
              "230262           0.716382       0.500000  0.656771            0.317237   \n",
              "230263           0.764272       0.500000  0.409184            0.000000   \n",
              "230264           0.500000       0.528682  0.551308            0.500000   \n",
              "230265           1.000000       0.500000  0.554982            0.750000   \n",
              "\n",
              "        Job Satisfaction  Sleep Duration  Dietary Habits  Degree  \\\n",
              "0                   0.25              29               7      33   \n",
              "1                   0.50              27              20      63   \n",
              "2                   0.50              15               7      21   \n",
              "3                   0.00              27              15      28   \n",
              "4                   0.00              15              20      28   \n",
              "...                  ...             ...             ...     ...   \n",
              "230261              0.50              27               7      45   \n",
              "230262              0.50              27              20      80   \n",
              "230263              0.50              15              15      45   \n",
              "230264              0.75              19               7      45   \n",
              "230265              0.50              28               7      29   \n",
              "\n",
              "        Have you ever had suicidal thoughts ?  Work/Study Hours  \\\n",
              "0                                           0          0.083333   \n",
              "1                                           2          0.583333   \n",
              "2                                           2          0.250000   \n",
              "3                                           2          0.833333   \n",
              "4                                           2          0.750000   \n",
              "...                                       ...               ...   \n",
              "230261                                      2          0.949215   \n",
              "230262                                      0          0.855746   \n",
              "230263                                      2          0.578576   \n",
              "230264                                      2          0.759561   \n",
              "230265                                      0          0.091952   \n",
              "\n",
              "        Financial Stress  Family History of Mental Illness  Depression  \n",
              "0               0.250000                                 0           0  \n",
              "1               0.500000                                 0           1  \n",
              "2               0.000000                                 0           1  \n",
              "3               0.000000                                 2           1  \n",
              "4               0.750000                                 2           0  \n",
              "...                  ...                               ...         ...  \n",
              "230261          0.173823                                 0           1  \n",
              "230262          1.000000                                 2           1  \n",
              "230263          0.750000                                 2           1  \n",
              "230264          0.721318                                 0           1  \n",
              "230265          0.512928                                 2           1  \n",
              "\n",
              "[230266 rows x 18 columns]"
            ]
          },
          "execution_count": 48,
          "metadata": {},
          "output_type": "execute_result"
        }
      ],
      "source": [
        "train_df_resampled"
      ]
    },
    {
      "cell_type": "code",
      "execution_count": 49,
      "metadata": {
        "colab": {
          "base_uri": "https://localhost:8080/",
          "height": 458
        },
        "id": "UocmXgAMEPV1",
        "outputId": "46643632-2a63-438f-bb86-1f5929b165bc"
      },
      "outputs": [
        {
          "data": {
            "text/plain": [
              "0         0\n",
              "1         1\n",
              "2         1\n",
              "3         1\n",
              "4         0\n",
              "         ..\n",
              "230261    1\n",
              "230262    1\n",
              "230263    1\n",
              "230264    1\n",
              "230265    1\n",
              "Name: Depression, Length: 230266, dtype: int64"
            ]
          },
          "execution_count": 49,
          "metadata": {},
          "output_type": "execute_result"
        }
      ],
      "source": [
        "train_df_resampled[\"Depression\"]"
      ]
    },
    {
      "cell_type": "code",
      "execution_count": 50,
      "metadata": {
        "colab": {
          "base_uri": "https://localhost:8080/"
        },
        "id": "_w3QqaadERAn",
        "outputId": "9a8ae954-6253-41b2-f8d4-28fd8367cf30"
      },
      "outputs": [
        {
          "name": "stdout",
          "output_type": "stream",
          "text": [
            "After SMOTE: Depression\n",
            "0    115133\n",
            "1    115133\n",
            "Name: count, dtype: int64\n"
          ]
        }
      ],
      "source": [
        "print(\"After SMOTE:\", train_df_resampled[\"Depression\"].value_counts())"
      ]
    },
    {
      "cell_type": "markdown",
      "metadata": {
        "id": "vzi8mzeyF-Kb"
      },
      "source": [
        "### 2.3) CORRELATION ANALYSIS"
      ]
    },
    {
      "cell_type": "code",
      "execution_count": 51,
      "metadata": {
        "id": "eclsgRPPFsjR"
      },
      "outputs": [],
      "source": [
        "correlation_matrix = train_df.corr()"
      ]
    },
    {
      "cell_type": "code",
      "execution_count": 52,
      "metadata": {
        "colab": {
          "base_uri": "https://localhost:8080/"
        },
        "id": "HQtd2B5oGIvH",
        "outputId": "9a15faa6-9812-4436-b9c0-87e6c5acc448"
      },
      "outputs": [
        {
          "name": "stdout",
          "output_type": "stream",
          "text": [
            "Depression                               1.000000\n",
            "Have you ever had suicidal thoughts ?    0.349066\n",
            "Academic Pressure                        0.316944\n",
            "Profession                               0.283113\n",
            "Financial Stress                         0.227232\n",
            "Work/Study Hours                         0.191746\n",
            "Dietary Habits                           0.143415\n",
            "Work Pressure                            0.137988\n",
            "Family History of Mental Illness         0.016502\n",
            "Sleep Duration                           0.014453\n",
            "Gender                                   0.008144\n",
            "City                                    -0.020941\n",
            "CGPA                                    -0.023050\n",
            "Degree                                  -0.045547\n",
            "Job Satisfaction                        -0.103058\n",
            "Study Satisfaction                      -0.114377\n",
            "Working Professional or Student         -0.520790\n",
            "Age                                     -0.564671\n",
            "Name: Depression, dtype: float64\n"
          ]
        }
      ],
      "source": [
        "print(correlation_matrix[\"Depression\"].sort_values(ascending=False))"
      ]
    },
    {
      "cell_type": "code",
      "execution_count": 53,
      "metadata": {
        "colab": {
          "base_uri": "https://localhost:8080/",
          "height": 835
        },
        "id": "rIIPbzJAL3t0",
        "outputId": "c38162ae-c163-41a5-e2d8-59ee02965949"
      },
      "outputs": [
        {
          "data": {
            "image/png": "[encoded data removed]",
            "text/plain": [
              "<Figure size 1200x800 with 2 Axes>"
            ]
          },
          "metadata": {},
          "output_type": "display_data"
        }
      ],
      "source": [
        "plt.figure(figsize=(12, 8))\n",
        "\n",
        "sns.heatmap(correlation_matrix, annot=True, cmap=\"coolwarm\", fmt=\".2f\")\n",
        "\n",
        "plt.title(\"Feature Correlation Matrix\")\n",
        "plt.show()"
      ]
    },
    {
      "cell_type": "code",
      "execution_count": 54,
      "metadata": {
        "colab": {
          "base_uri": "https://localhost:8080/"
        },
        "id": "tzmokmHHL7Ju",
        "outputId": "7e3b273a-c09b-4099-ff69-4676b5a476f7"
      },
      "outputs": [
        {
          "name": "stdout",
          "output_type": "stream",
          "text": [
            "Features highly correlated with Depression:\n",
            "Depression                               1.000000\n",
            "Age                                      0.564671\n",
            "Working Professional or Student          0.520790\n",
            "Have you ever had suicidal thoughts ?    0.349066\n",
            "Academic Pressure                        0.316944\n",
            "Name: Depression, dtype: float64\n"
          ]
        }
      ],
      "source": [
        "high_correlation_features = correlation_matrix[\"Depression\"].abs().sort_values(ascending=False)\n",
        "high_correlation_features = high_correlation_features[high_correlation_features > 0.3]\n",
        "\n",
        "print(\"Features highly correlated with Depression:\")\n",
        "print(high_correlation_features)"
      ]
    },
    {
      "cell_type": "markdown",
      "metadata": {
        "id": "rF_OmWr1MqRB"
      },
      "source": [
        "### 2.4) TRAIN TEST SPLIT"
      ]
    },
    {
      "cell_type": "code",
      "execution_count": 55,
      "metadata": {
        "id": "bspcxlBiMx12"
      },
      "outputs": [],
      "source": [
        "X = train_df_resampled.drop(columns=[\"Depression\"]).values\n",
        "y = train_df_resampled[\"Depression\"].values"
      ]
    },
    {
      "cell_type": "code",
      "execution_count": 56,
      "metadata": {
        "id": "UCcKFz92MRfH"
      },
      "outputs": [],
      "source": [
        "X_train, X_val, y_train, y_val = train_test_split(X, y, test_size=0.2, random_state=42, stratify=y)"
      ]
    },
    {
      "cell_type": "code",
      "execution_count": 57,
      "metadata": {
        "colab": {
          "base_uri": "https://localhost:8080/"
        },
        "id": "IZ23vr-ENBL3",
        "outputId": "ea697d42-6c6e-45a2-804a-44078e344e48"
      },
      "outputs": [
        {
          "name": "stdout",
          "output_type": "stream",
          "text": [
            "Training set shape: (184212, 17)\n",
            "Validation set shape: (46054, 17)\n"
          ]
        }
      ],
      "source": [
        "print(\"Training set shape:\", X_train.shape)\n",
        "print(\"Validation set shape:\", X_val.shape)"
      ]
    },
    {
      "cell_type": "markdown",
      "metadata": {
        "id": "WMOce6PVNQU4"
      },
      "source": [
        "### 3) MODEL DEVELOPMENT"
      ]
    },
    {
      "cell_type": "markdown",
      "metadata": {
        "id": "QRlU3wkRRr6n"
      },
      "source": [
        "### 3.1) MLP CLASSIFIER"
      ]
    },
    {
      "cell_type": "code",
      "execution_count": 58,
      "metadata": {
        "id": "BiZ0kcyANO_f"
      },
      "outputs": [],
      "source": [
        "class MLPClassifier(nn.Module):\n",
        "    def __init__(self, input_dim):\n",
        "        super(MLPClassifier, self).__init__()\n",
        "        self.model = nn.Sequential(\n",
        "            nn.Linear(input_dim, 128),\n",
        "            nn.ReLU(),\n",
        "            nn.Dropout(0.3),\n",
        "            nn.Linear(128, 64),\n",
        "            nn.ReLU(),\n",
        "            nn.Dropout(0.3),\n",
        "            nn.Linear(64, 1),\n",
        "            nn.Sigmoid()\n",
        "        )\n",
        "\n",
        "    def forward(self, x):\n",
        "        return self.model(x)"
      ]
    },
    {
      "cell_type": "markdown",
      "metadata": {
        "id": "Cuhj5DPJO3Gj"
      },
      "source": [
        "### CONVERT DATA TO PYTORCH TENSORS"
      ]
    },
    {
      "cell_type": "code",
      "execution_count": 59,
      "metadata": {
        "id": "_w-nmWWTOJvV"
      },
      "outputs": [],
      "source": [
        "X_train_tensor = torch.tensor(X_train, dtype=torch.float32)\n",
        "y_train_tensor = torch.tensor(y_train, dtype=torch.float32).unsqueeze(1)\n",
        "X_val_tensor = torch.tensor(X_val, dtype=torch.float32)\n",
        "y_val_tensor = torch.tensor(y_val, dtype=torch.float32).unsqueeze(1)"
      ]
    },
    {
      "cell_type": "code",
      "execution_count": 60,
      "metadata": {
        "colab": {
          "base_uri": "https://localhost:8080/"
        },
        "id": "xLXS8TSnPT4w",
        "outputId": "e1c503ed-20ea-43d2-9f84-c67781459964"
      },
      "outputs": [
        {
          "data": {
            "text/plain": [
              "tensor([[ 1.0000,  0.6190, 98.0000,  ...,  0.8333,  0.2500,  2.0000],\n",
              "        [ 1.0000,  0.3810, 98.0000,  ...,  1.0000,  0.2500,  2.0000],\n",
              "        [ 1.0000,  0.9762, 36.0000,  ...,  0.5000,  0.0000,  0.0000],\n",
              "        ...,\n",
              "        [ 1.0000,  0.1905, 33.0000,  ...,  0.8333,  0.5000,  2.0000],\n",
              "        [ 1.0000,  0.2273, 72.0000,  ...,  0.5228,  0.5447,  0.0000],\n",
              "        [ 0.0000,  0.2723, 26.0000,  ...,  0.5519,  0.7814,  0.0000]])"
            ]
          },
          "execution_count": 60,
          "metadata": {},
          "output_type": "execute_result"
        }
      ],
      "source": [
        "X_train_tensor"
      ]
    },
    {
      "cell_type": "code",
      "execution_count": 61,
      "metadata": {
        "colab": {
          "base_uri": "https://localhost:8080/"
        },
        "id": "zB-lNTILPTyi",
        "outputId": "9a237aa9-34e8-4482-e249-bcd65585a50a"
      },
      "outputs": [
        {
          "data": {
            "text/plain": [
              "tensor([[0.],\n",
              "        [0.],\n",
              "        [0.],\n",
              "        ...,\n",
              "        [0.],\n",
              "        [1.],\n",
              "        [1.]])"
            ]
          },
          "execution_count": 61,
          "metadata": {},
          "output_type": "execute_result"
        }
      ],
      "source": [
        "y_train_tensor"
      ]
    },
    {
      "cell_type": "code",
      "execution_count": 62,
      "metadata": {
        "colab": {
          "base_uri": "https://localhost:8080/"
        },
        "id": "VFOHcZ68PZZk",
        "outputId": "71bd8f2f-bdbb-47bf-eaa6-5f1e22069b35"
      },
      "outputs": [
        {
          "data": {
            "text/plain": [
              "tensor([[1.0000e+00, 5.2381e-01, 9.2000e+01,  ..., 7.5000e-01, 0.0000e+00,\n",
              "         0.0000e+00],\n",
              "        [0.0000e+00, 2.2610e-01, 1.4000e+01,  ..., 2.9719e-01, 7.5000e-01,\n",
              "         0.0000e+00],\n",
              "        [1.0000e+00, 9.7619e-01, 2.2000e+01,  ..., 8.3333e-02, 0.0000e+00,\n",
              "         2.0000e+00],\n",
              "        ...,\n",
              "        [1.0000e+00, 2.3810e-02, 2.6000e+01,  ..., 1.0000e+00, 0.0000e+00,\n",
              "         0.0000e+00],\n",
              "        [1.0000e+00, 1.0985e-01, 7.2000e+01,  ..., 8.8449e-01, 1.0000e+00,\n",
              "         0.0000e+00],\n",
              "        [0.0000e+00, 1.9048e-01, 2.6000e+01,  ..., 8.3333e-02, 2.5000e-01,\n",
              "         0.0000e+00]])"
            ]
          },
          "execution_count": 62,
          "metadata": {},
          "output_type": "execute_result"
        }
      ],
      "source": [
        "X_val_tensor"
      ]
    },
    {
      "cell_type": "code",
      "execution_count": 63,
      "metadata": {
        "colab": {
          "base_uri": "https://localhost:8080/"
        },
        "id": "3z9xLceDPa88",
        "outputId": "80bcd782-8baa-4b61-96d2-f727f1f8cdd3"
      },
      "outputs": [
        {
          "data": {
            "text/plain": [
              "tensor([[0.],\n",
              "        [1.],\n",
              "        [0.],\n",
              "        ...,\n",
              "        [0.],\n",
              "        [1.],\n",
              "        [0.]])"
            ]
          },
          "execution_count": 63,
          "metadata": {},
          "output_type": "execute_result"
        }
      ],
      "source": [
        "y_val_tensor"
      ]
    },
    {
      "cell_type": "code",
      "execution_count": 64,
      "metadata": {
        "id": "JmronPGJOiib"
      },
      "outputs": [],
      "source": [
        "train_dataset = TensorDataset(X_train_tensor, y_train_tensor)\n",
        "val_dataset = TensorDataset(X_val_tensor, y_val_tensor)\n",
        "train_loader = DataLoader(train_dataset, batch_size=64, shuffle=True)\n",
        "val_loader = DataLoader(val_dataset, batch_size=64, shuffle=False)"
      ]
    },
    {
      "cell_type": "code",
      "execution_count": 65,
      "metadata": {
        "colab": {
          "base_uri": "https://localhost:8080/"
        },
        "id": "zZ27mS-cPeGF",
        "outputId": "36ffe23f-37be-4d2c-9b40-104587f508fa"
      },
      "outputs": [
        {
          "data": {
            "text/plain": [
              "<torch.utils.data.dataset.TensorDataset at 0x1f2822e4bf0>"
            ]
          },
          "execution_count": 65,
          "metadata": {},
          "output_type": "execute_result"
        }
      ],
      "source": [
        "train_dataset"
      ]
    },
    {
      "cell_type": "code",
      "execution_count": 66,
      "metadata": {
        "colab": {
          "base_uri": "https://localhost:8080/"
        },
        "id": "Blhefom4PeCk",
        "outputId": "1bbc14da-40f3-412b-c436-6d154605fbb2"
      },
      "outputs": [
        {
          "data": {
            "text/plain": [
              "<torch.utils.data.dataset.TensorDataset at 0x1f2811dfd40>"
            ]
          },
          "execution_count": 66,
          "metadata": {},
          "output_type": "execute_result"
        }
      ],
      "source": [
        "val_dataset"
      ]
    },
    {
      "cell_type": "code",
      "execution_count": 67,
      "metadata": {
        "colab": {
          "base_uri": "https://localhost:8080/"
        },
        "id": "a4tEHz6JPeAF",
        "outputId": "2938fd19-9b8b-4829-e978-0ae453093f47"
      },
      "outputs": [
        {
          "data": {
            "text/plain": [
              "<torch.utils.data.dataloader.DataLoader at 0x1f2811e73e0>"
            ]
          },
          "execution_count": 67,
          "metadata": {},
          "output_type": "execute_result"
        }
      ],
      "source": [
        "train_loader"
      ]
    },
    {
      "cell_type": "code",
      "execution_count": 68,
      "metadata": {
        "colab": {
          "base_uri": "https://localhost:8080/"
        },
        "id": "uQSIakapPd9S",
        "outputId": "63beb821-6a2f-443c-a56d-cbdedd9922e6"
      },
      "outputs": [
        {
          "data": {
            "text/plain": [
              "<torch.utils.data.dataloader.DataLoader at 0x1f2cfc37aa0>"
            ]
          },
          "execution_count": 68,
          "metadata": {},
          "output_type": "execute_result"
        }
      ],
      "source": [
        "val_loader"
      ]
    },
    {
      "cell_type": "markdown",
      "metadata": {
        "id": "AZTOiOpAPEWh"
      },
      "source": [
        "### TRAIN THE MODEL"
      ]
    },
    {
      "cell_type": "code",
      "execution_count": 69,
      "metadata": {
        "id": "j-UsVqCYOnMS"
      },
      "outputs": [],
      "source": [
        "input_dim = X_train.shape[1]"
      ]
    },
    {
      "cell_type": "code",
      "execution_count": 70,
      "metadata": {
        "id": "82DUtgc6OtYd"
      },
      "outputs": [],
      "source": [
        "model = MLPClassifier(input_dim)"
      ]
    },
    {
      "cell_type": "code",
      "execution_count": 71,
      "metadata": {
        "colab": {
          "base_uri": "https://localhost:8080/"
        },
        "id": "CoX-1-_2Pk-z",
        "outputId": "5a0affda-5c8c-4675-d0ff-7e1fa6a6560a"
      },
      "outputs": [
        {
          "data": {
            "text/plain": [
              "MLPClassifier(\n",
              "  (model): Sequential(\n",
              "    (0): Linear(in_features=17, out_features=128, bias=True)\n",
              "    (1): ReLU()\n",
              "    (2): Dropout(p=0.3, inplace=False)\n",
              "    (3): Linear(in_features=128, out_features=64, bias=True)\n",
              "    (4): ReLU()\n",
              "    (5): Dropout(p=0.3, inplace=False)\n",
              "    (6): Linear(in_features=64, out_features=1, bias=True)\n",
              "    (7): Sigmoid()\n",
              "  )\n",
              ")"
            ]
          },
          "execution_count": 71,
          "metadata": {},
          "output_type": "execute_result"
        }
      ],
      "source": [
        "model"
      ]
    },
    {
      "cell_type": "code",
      "execution_count": 72,
      "metadata": {
        "id": "L-Q09iVzPmZ9"
      },
      "outputs": [],
      "source": [
        "criterion = nn.BCELoss()\n",
        "optimizer = optim.Adam(model.parameters(), lr=0.001)"
      ]
    },
    {
      "cell_type": "code",
      "execution_count": 73,
      "metadata": {
        "colab": {
          "base_uri": "https://localhost:8080/"
        },
        "id": "aYOUvYb4Pr5i",
        "outputId": "3b831b0e-3b0d-4b38-c9b4-4a160647a86a"
      },
      "outputs": [
        {
          "data": {
            "text/plain": [
              "BCELoss()"
            ]
          },
          "execution_count": 73,
          "metadata": {},
          "output_type": "execute_result"
        }
      ],
      "source": [
        "criterion"
      ]
    },
    {
      "cell_type": "code",
      "execution_count": 74,
      "metadata": {
        "colab": {
          "base_uri": "https://localhost:8080/"
        },
        "id": "QNmPgnpDPt8p",
        "outputId": "ecc13d8c-1a20-4458-b64b-b5abf78d7c4c"
      },
      "outputs": [
        {
          "data": {
            "text/plain": [
              "Adam (\n",
              "Parameter Group 0\n",
              "    amsgrad: False\n",
              "    betas: (0.9, 0.999)\n",
              "    capturable: False\n",
              "    differentiable: False\n",
              "    eps: 1e-08\n",
              "    foreach: None\n",
              "    fused: None\n",
              "    lr: 0.001\n",
              "    maximize: False\n",
              "    weight_decay: 0\n",
              ")"
            ]
          },
          "execution_count": 74,
          "metadata": {},
          "output_type": "execute_result"
        }
      ],
      "source": [
        "optimizer"
      ]
    },
    {
      "cell_type": "code",
      "execution_count": 75,
      "metadata": {
        "colab": {
          "base_uri": "https://localhost:8080/"
        },
        "id": "6zPkEO9MPvn0",
        "outputId": "0a736aee-e3ce-4503-bc46-431aa2c493f5"
      },
      "outputs": [
        {
          "name": "stdout",
          "output_type": "stream",
          "text": [
            "Epoch 1/10, Loss: 0.3148\n",
            "Epoch 2/10, Loss: 0.2071\n",
            "Epoch 3/10, Loss: 0.2012\n",
            "Epoch 4/10, Loss: 0.1990\n",
            "Epoch 5/10, Loss: 0.1987\n",
            "Epoch 6/10, Loss: 0.1969\n",
            "Epoch 7/10, Loss: 0.1962\n",
            "Epoch 8/10, Loss: 0.1953\n",
            "Epoch 9/10, Loss: 0.1950\n",
            "Epoch 10/10, Loss: 0.1947\n"
          ]
        }
      ],
      "source": [
        "num_epochs = 10\n",
        "for epoch in range(num_epochs):\n",
        "    model.train()\n",
        "    total_loss = 0\n",
        "\n",
        "    for batch_X, batch_y in train_loader:\n",
        "        optimizer.zero_grad()\n",
        "        outputs = model(batch_X)\n",
        "        loss = criterion(outputs, batch_y)\n",
        "        loss.backward()\n",
        "        optimizer.step()\n",
        "        total_loss += loss.item()\n",
        "\n",
        "    print(f\"Epoch {epoch+1}/{num_epochs}, Loss: {total_loss / len(train_loader):.4f}\")"
      ]
    },
    {
      "cell_type": "markdown",
      "metadata": {
        "id": "YhjQ91sQQ2xy"
      },
      "source": [
        "### 3.2) EVALUATE THE MODEL"
      ]
    },
    {
      "cell_type": "code",
      "execution_count": 76,
      "metadata": {
        "colab": {
          "base_uri": "https://localhost:8080/"
        },
        "id": "q6DAZ89MP0jM",
        "outputId": "92d4b47a-e93d-4ee5-9887-e8f6eaff4b33"
      },
      "outputs": [
        {
          "name": "stdout",
          "output_type": "stream",
          "text": [
            "Training Accuracy: 0.9295\n",
            "Validation Accuracy: 0.9290\n"
          ]
        }
      ],
      "source": [
        "def evaluate(model, dataloader):\n",
        "    model.eval()\n",
        "    correct, total = 0, 0\n",
        "    with torch.no_grad():\n",
        "        for batch_X, batch_y in dataloader:\n",
        "            outputs = model(batch_X)\n",
        "            predicted = (outputs > 0.5).float()  # Convert probabilities to binary 0/1\n",
        "            correct += (predicted == batch_y).sum().item()\n",
        "            total += batch_y.size(0)\n",
        "    return correct / total\n",
        "\n",
        "train_acc = evaluate(model, train_loader)\n",
        "val_acc = evaluate(model, val_loader)\n",
        "\n",
        "print(f\"Training Accuracy: {train_acc:.4f}\")\n",
        "print(f\"Validation Accuracy: {val_acc:.4f}\")"
      ]
    },
    {
      "cell_type": "code",
      "execution_count": 77,
      "metadata": {
        "colab": {
          "base_uri": "https://localhost:8080/"
        },
        "id": "fcFV4AP0RGn0",
        "outputId": "ef8c0056-e332-4628-8c1b-4972110d17b4"
      },
      "outputs": [
        {
          "name": "stdout",
          "output_type": "stream",
          "text": [
            "              precision    recall  f1-score   support\n",
            "\n",
            "         0.0       0.94      0.91      0.93     23027\n",
            "         1.0       0.92      0.95      0.93     23027\n",
            "\n",
            "    accuracy                           0.93     46054\n",
            "   macro avg       0.93      0.93      0.93     46054\n",
            "weighted avg       0.93      0.93      0.93     46054\n",
            "\n"
          ]
        }
      ],
      "source": [
        "model.eval()\n",
        "y_true, y_pred = [], []\n",
        "\n",
        "with torch.no_grad():\n",
        "    for batch_X, batch_y in val_loader:\n",
        "        outputs = model(batch_X)\n",
        "        predicted = (outputs > 0.5).float()\n",
        "        y_true.extend(batch_y.cpu().numpy())\n",
        "        y_pred.extend(predicted.cpu().numpy())\n",
        "\n",
        "print(classification_report(y_true, y_pred))"
      ]
    },
    {
      "cell_type": "code",
      "execution_count": 78,
      "metadata": {
        "colab": {
          "base_uri": "https://localhost:8080/",
          "height": 472
        },
        "id": "l8HipcYfSUVG",
        "outputId": "4b3ced19-b331-4674-a2d6-e120e53072e6"
      },
      "outputs": [
        {
          "data": {
            "image/png": "[encoded data removed]",
            "text/plain": [
              "<Figure size 640x480 with 2 Axes>"
            ]
          },
          "metadata": {},
          "output_type": "display_data"
        }
      ],
      "source": [
        "cm = confusion_matrix(y_true, y_pred)\n",
        "sns.heatmap(cm, annot=True, fmt=\"d\", cmap=\"Blues\", xticklabels=[\"No Depression\", \"Depression\"], yticklabels=[\"No Depression\", \"Depression\"])\n",
        "plt.xlabel(\"Predicted\")\n",
        "plt.ylabel(\"Actual\")\n",
        "plt.title(\"Confusion Matrix\")\n",
        "plt.show()"
      ]
    },
    {
      "cell_type": "code",
      "execution_count": 79,
      "metadata": {
        "colab": {
          "base_uri": "https://localhost:8080/"
        },
        "id": "Afd7hp6ESfEm",
        "outputId": "b3376e2f-32bc-45c2-c24f-d7ba5ebc1960"
      },
      "outputs": [
        {
          "name": "stdout",
          "output_type": "stream",
          "text": [
            "Sample test predictions: [0, 0, 0, 1, 0, 0, 0, 0, 0, 1]\n"
          ]
        }
      ],
      "source": [
        "model.eval()\n",
        "with torch.no_grad():\n",
        "    test_preds = model(torch.tensor(X_test, dtype=torch.float32)).squeeze()\n",
        "    test_preds = (test_preds > 0.5).int()\n",
        "print(\"Sample test predictions:\", test_preds[:10].tolist())"
      ]
    },
    {
      "cell_type": "code",
      "execution_count": 80,
      "metadata": {
        "colab": {
          "base_uri": "https://localhost:8080/"
        },
        "id": "vrF64T5xSjqs",
        "outputId": "c45987ac-74eb-427a-81b2-1dc217ec4742"
      },
      "outputs": [
        {
          "name": "stdout",
          "output_type": "stream",
          "text": [
            "[0, 0, 0, 1, 0, 0, 0, 0, 0, 1]\n"
          ]
        }
      ],
      "source": [
        "adjusted_threshold = 0.4\n",
        "test_preds_adjusted = (test_preds > adjusted_threshold).int()\n",
        "print(test_preds_adjusted[:10].tolist())"
      ]
    },
    {
      "cell_type": "code",
      "execution_count": 81,
      "metadata": {
        "colab": {
          "base_uri": "https://localhost:8080/"
        },
        "id": "Ty6zbNmRSwpv",
        "outputId": "3e60ff68-f1e4-4f5c-c884-db95116dca1d"
      },
      "outputs": [
        {
          "name": "stdout",
          "output_type": "stream",
          "text": [
            "{0: 71308, 1: 22492}\n"
          ]
        }
      ],
      "source": [
        "import numpy as np\n",
        "unique, counts = np.unique(test_preds, return_counts=True)\n",
        "print(dict(zip(unique, counts)))"
      ]
    },
    {
      "cell_type": "code",
      "execution_count": 82,
      "metadata": {
        "colab": {
          "base_uri": "https://localhost:8080/"
        },
        "id": "zE81PWKvSydn",
        "outputId": "73b41000-d506-427a-a3a0-91c4450f6dc0"
      },
      "outputs": [
        {
          "name": "stdout",
          "output_type": "stream",
          "text": [
            "Depression\n",
            "0    115133\n",
            "1    115133\n",
            "Name: count, dtype: int64\n"
          ]
        }
      ],
      "source": [
        "print(train_df_resampled[\"Depression\"].value_counts())\n"
      ]
    },
    {
      "cell_type": "code",
      "execution_count": 83,
      "metadata": {
        "colab": {
          "base_uri": "https://localhost:8080/"
        },
        "id": "frakveGTS-Xb",
        "outputId": "5d9455c5-fa88-47b7-9144-c32690f7b4ec"
      },
      "outputs": [
        {
          "name": "stdout",
          "output_type": "stream",
          "text": [
            "(array([0, 1]), array([71308, 22492], dtype=int64))\n"
          ]
        }
      ],
      "source": [
        "adjusted_threshold = 0.4\n",
        "test_preds_adjusted = (test_preds > adjusted_threshold).int()\n",
        "print(np.unique(test_preds_adjusted, return_counts=True))\n"
      ]
    },
    {
      "cell_type": "code",
      "execution_count": 84,
      "metadata": {
        "colab": {
          "base_uri": "https://localhost:8080/"
        },
        "id": "CS1O5dtETBNV",
        "outputId": "489866e3-6a46-4f5a-9d83-a0b8f8c41759"
      },
      "outputs": [
        {
          "name": "stdout",
          "output_type": "stream",
          "text": [
            "Train Accuracy: 0.9258, Validation Accuracy: 0.9255\n",
            "Sample Predictions: [array([0.], dtype=float32), array([1.], dtype=float32), array([0.], dtype=float32), array([0.], dtype=float32), array([0.], dtype=float32), array([0.], dtype=float32), array([0.], dtype=float32), array([0.], dtype=float32), array([0.], dtype=float32), array([0.], dtype=float32)]\n"
          ]
        }
      ],
      "source": [
        "threshold = 0.4\n",
        "\n",
        "def evaluate(model, dataloader, threshold=0.5):\n",
        "    model.eval()\n",
        "    correct, total = 0, 0\n",
        "    all_preds, all_labels = [], []\n",
        "\n",
        "    with torch.no_grad():\n",
        "        for batch_X, batch_y in dataloader:\n",
        "            outputs = model(batch_X)\n",
        "            predicted = (outputs > threshold).float()\n",
        "            correct += (predicted == batch_y).sum().item()\n",
        "            total += batch_y.size(0)\n",
        "\n",
        "            all_preds.extend(predicted.cpu().numpy())\n",
        "            all_labels.extend(batch_y.cpu().numpy())\n",
        "\n",
        "    acc = correct / total\n",
        "    return acc, all_preds, all_labels\n",
        "\n",
        "train_acc, train_preds, train_labels = evaluate(model, train_loader, threshold)\n",
        "val_acc, val_preds, val_labels = evaluate(model, val_loader, threshold)\n",
        "\n",
        "print(f\"Train Accuracy: {train_acc:.4f}, Validation Accuracy: {val_acc:.4f}\")\n",
        "print(f\"Sample Predictions: {val_preds[:10]}\")\n"
      ]
    },
    {
      "cell_type": "code",
      "execution_count": 85,
      "metadata": {
        "id": "P-95hjQaTmtr"
      },
      "outputs": [],
      "source": [
        "class DepressionMLP(nn.Module):\n",
        "    def __init__(self, input_size):\n",
        "        super(DepressionMLP, self).__init__()\n",
        "        self.fc1 = nn.Linear(input_size, 128)\n",
        "        self.dropout1 = nn.Dropout(0.3)\n",
        "        self.fc2 = nn.Linear(128, 64)\n",
        "        self.dropout2 = nn.Dropout(0.3)\n",
        "        self.fc3 = nn.Linear(64, 1)\n",
        "        self.sigmoid = nn.Sigmoid()\n",
        "\n",
        "    def forward(self, x):\n",
        "        x = torch.relu(self.fc1(x))\n",
        "        x = self.dropout1(x)\n",
        "        x = torch.relu(self.fc2(x))\n",
        "        x = self.dropout2(x)\n",
        "        x = self.sigmoid(self.fc3(x))\n",
        "        return x\n"
      ]
    },
    {
      "cell_type": "code",
      "execution_count": 86,
      "metadata": {
        "colab": {
          "base_uri": "https://localhost:8080/"
        },
        "id": "S5F0M2AWT1Me",
        "outputId": "f8b519c7-f78d-4671-8195-241206a30c87"
      },
      "outputs": [
        {
          "name": "stdout",
          "output_type": "stream",
          "text": [
            "{0.0: 21412, 1.0: 24642}\n"
          ]
        }
      ],
      "source": [
        "unique, counts = np.unique(val_preds, return_counts=True)\n",
        "print(dict(zip(unique, counts)))"
      ]
    },
    {
      "cell_type": "code",
      "execution_count": 87,
      "metadata": {
        "colab": {
          "base_uri": "https://localhost:8080/"
        },
        "id": "3k_hLWsnT5s-",
        "outputId": "ffc64a0a-5207-4f28-9cd1-0376ee8386be"
      },
      "outputs": [
        {
          "name": "stdout",
          "output_type": "stream",
          "text": [
            "              precision    recall  f1-score   support\n",
            "\n",
            "         0.0       0.96      0.89      0.92     23027\n",
            "         1.0       0.90      0.96      0.93     23027\n",
            "\n",
            "    accuracy                           0.93     46054\n",
            "   macro avg       0.93      0.93      0.93     46054\n",
            "weighted avg       0.93      0.93      0.93     46054\n",
            "\n"
          ]
        }
      ],
      "source": [
        "print(classification_report(val_labels, val_preds))"
      ]
    },
    {
      "cell_type": "code",
      "execution_count": 88,
      "metadata": {
        "colab": {
          "base_uri": "https://localhost:8080/",
          "height": 564
        },
        "id": "fVYe8PHeT9_c",
        "outputId": "50a78c5f-29d3-49c1-fb1a-60f2b46523a8"
      },
      "outputs": [
        {
          "data": {
            "image/png": "[encoded data removed]",
            "text/plain": [
              "<Figure size 800x600 with 1 Axes>"
            ]
          },
          "metadata": {},
          "output_type": "display_data"
        }
      ],
      "source": [
        "fpr, tpr, _ = roc_curve(val_labels, val_preds)\n",
        "roc_auc = auc(fpr, tpr)\n",
        "\n",
        "plt.figure(figsize=(8, 6))\n",
        "plt.plot(fpr, tpr, label=f'ROC Curve (area = {roc_auc:.2f})')\n",
        "plt.plot([0, 1], [0, 1], linestyle='--', color='gray')\n",
        "plt.xlabel('False Positive Rate')\n",
        "plt.ylabel('True Positive Rate')\n",
        "plt.title('ROC Curve')\n",
        "plt.legend()\n",
        "plt.show()"
      ]
    },
    {
      "cell_type": "markdown",
      "metadata": {
        "id": "f4p95Qe7U8Ih"
      },
      "source": [
        "### SAVE THE MODEL"
      ]
    },
    {
      "cell_type": "code",
      "execution_count": 89,
      "metadata": {
        "colab": {
          "base_uri": "https://localhost:8080/"
        },
        "id": "T6zY6bPuUHYp",
        "outputId": "6cbc772b-c9d7-49d3-d82c-7de99c8f978e"
      },
      "outputs": [
        {
          "name": "stdout",
          "output_type": "stream",
          "text": [
            "Model saved successfully!\n"
          ]
        }
      ],
      "source": [
        "torch.save(model.state_dict(), \"depression_model.pth\")\n",
        "\n",
        "print(\"Model saved successfully!\")"
      ]
    }
  ],
  "metadata": {
    "accelerator": "GPU",
    "colab": {
      "gpuType": "T4",
      "provenance": []
    },
    "kernelspec": {
      "display_name": "base",
      "language": "python",
      "name": "python3"
    },
    "language_info": {
      "codemirror_mode": {
        "name": "ipython",
        "version": 3
      },
      "file_extension": ".py",
      "mimetype": "text/x-python",
      "name": "python",
      "nbconvert_exporter": "python",
      "pygments_lexer": "ipython3",
      "version": "3.12.4"
    }
  },
  "nbformat": 4,
  "nbformat_minor": 0
}
